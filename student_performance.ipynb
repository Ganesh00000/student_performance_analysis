{
  "nbformat": 4,
  "nbformat_minor": 0,
  "metadata": {
    "colab": {
      "name": "student_performance.ipynb",
      "provenance": [],
      "authorship_tag": "ABX9TyNYL2k6F4y6NKJwEgNXbjnP",
      "include_colab_link": true
    },
    "kernelspec": {
      "name": "python3",
      "display_name": "Python 3"
    }
  },
  "cells": [
    {
      "cell_type": "markdown",
      "metadata": {
        "id": "view-in-github",
        "colab_type": "text"
      },
      "source": [
        "<a href=\"https://colab.research.google.com/github/Ganesh00000/student_performance_analysis/blob/main/student_performance.ipynb\" target=\"_parent\"><img src=\"https://colab.research.google.com/assets/colab-badge.svg\" alt=\"Open In Colab\"/></a>"
      ]
    },
    {
      "cell_type": "code",
      "metadata": {
        "id": "GkRBO69-jZJd"
      },
      "source": [
        "import numpy as np\n",
        "import pandas as pd\n",
        "import matplotlib.pyplot as plt\n",
        "import seaborn as sb "
      ],
      "execution_count": 1,
      "outputs": []
    },
    {
      "cell_type": "code",
      "metadata": {
        "id": "WcPUY6PMj80f"
      },
      "source": [
        "from google.colab import files"
      ],
      "execution_count": 2,
      "outputs": []
    },
    {
      "cell_type": "code",
      "metadata": {
        "id": "6GNLo96AknyE",
        "outputId": "3f50d5d4-936a-4a72-e77b-d6fb1f22ffa9",
        "colab": {
          "resources": {
            "http://localhost:8080/nbextensions/google.colab/files.js": {
              "data": "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",
              "ok": true,
              "headers": [
                [
                  "content-type",
                  "application/javascript"
                ]
              ],
              "status": 200,
              "status_text": ""
            }
          },
          "base_uri": "https://localhost:8080/",
          "height": 109
        }
      },
      "source": [
        "files.upload()"
      ],
      "execution_count": 3,
      "outputs": [
        {
          "output_type": "display_data",
          "data": {
            "text/html": [
              "\n",
              "     <input type=\"file\" id=\"files-94788fe1-c411-4d42-a468-ef50eb1d8e60\" name=\"files[]\" multiple disabled\n",
              "        style=\"border:none\" />\n",
              "     <output id=\"result-94788fe1-c411-4d42-a468-ef50eb1d8e60\">\n",
              "      Upload widget is only available when the cell has been executed in the\n",
              "      current browser session. Please rerun this cell to enable.\n",
              "      </output>\n",
              "      <script src=\"/nbextensions/google.colab/files.js\"></script> "
            ],
            "text/plain": [
              "<IPython.core.display.HTML object>"
            ]
          },
          "metadata": {
            "tags": []
          }
        },
        {
          "output_type": "stream",
          "text": [
            "Saving StudentsPerformance.csv to StudentsPerformance.csv\n"
          ],
          "name": "stdout"
        },
        {
          "output_type": "execute_result",
          "data": {
            "text/plain": [
              "{'StudentsPerformance.csv': b'\"gender\",\"race/ethnicity\",\"parental level of education\",\"lunch\",\"test preparation course\",\"math score\",\"reading score\",\"writing score\"\\n\"female\",\"group B\",\"bachelor\\'s degree\",\"standard\",\"none\",\"72\",\"72\",\"74\"\\n\"female\",\"group C\",\"some college\",\"standard\",\"completed\",\"69\",\"90\",\"88\"\\n\"female\",\"group B\",\"master\\'s degree\",\"standard\",\"none\",\"90\",\"95\",\"93\"\\n\"male\",\"group A\",\"associate\\'s degree\",\"free/reduced\",\"none\",\"47\",\"57\",\"44\"\\n\"male\",\"group C\",\"some college\",\"standard\",\"none\",\"76\",\"78\",\"75\"\\n\"female\",\"group B\",\"associate\\'s degree\",\"standard\",\"none\",\"71\",\"83\",\"78\"\\n\"female\",\"group B\",\"some college\",\"standard\",\"completed\",\"88\",\"95\",\"92\"\\n\"male\",\"group B\",\"some college\",\"free/reduced\",\"none\",\"40\",\"43\",\"39\"\\n\"male\",\"group D\",\"high school\",\"free/reduced\",\"completed\",\"64\",\"64\",\"67\"\\n\"female\",\"group B\",\"high school\",\"free/reduced\",\"none\",\"38\",\"60\",\"50\"\\n\"male\",\"group C\",\"associate\\'s degree\",\"standard\",\"none\",\"58\",\"54\",\"52\"\\n\"male\",\"group D\",\"associate\\'s degree\",\"standard\",\"none\",\"40\",\"52\",\"43\"\\n\"female\",\"group B\",\"high school\",\"standard\",\"none\",\"65\",\"81\",\"73\"\\n\"male\",\"group A\",\"some college\",\"standard\",\"completed\",\"78\",\"72\",\"70\"\\n\"female\",\"group A\",\"master\\'s degree\",\"standard\",\"none\",\"50\",\"53\",\"58\"\\n\"female\",\"group C\",\"some high school\",\"standard\",\"none\",\"69\",\"75\",\"78\"\\n\"male\",\"group C\",\"high school\",\"standard\",\"none\",\"88\",\"89\",\"86\"\\n\"female\",\"group B\",\"some high school\",\"free/reduced\",\"none\",\"18\",\"32\",\"28\"\\n\"male\",\"group C\",\"master\\'s degree\",\"free/reduced\",\"completed\",\"46\",\"42\",\"46\"\\n\"female\",\"group C\",\"associate\\'s degree\",\"free/reduced\",\"none\",\"54\",\"58\",\"61\"\\n\"male\",\"group D\",\"high school\",\"standard\",\"none\",\"66\",\"69\",\"63\"\\n\"female\",\"group B\",\"some college\",\"free/reduced\",\"completed\",\"65\",\"75\",\"70\"\\n\"male\",\"group D\",\"some college\",\"standard\",\"none\",\"44\",\"54\",\"53\"\\n\"female\",\"group C\",\"some high school\",\"standard\",\"none\",\"69\",\"73\",\"73\"\\n\"male\",\"group D\",\"bachelor\\'s degree\",\"free/reduced\",\"completed\",\"74\",\"71\",\"80\"\\n\"male\",\"group A\",\"master\\'s degree\",\"free/reduced\",\"none\",\"73\",\"74\",\"72\"\\n\"male\",\"group B\",\"some college\",\"standard\",\"none\",\"69\",\"54\",\"55\"\\n\"female\",\"group C\",\"bachelor\\'s degree\",\"standard\",\"none\",\"67\",\"69\",\"75\"\\n\"male\",\"group C\",\"high school\",\"standard\",\"none\",\"70\",\"70\",\"65\"\\n\"female\",\"group D\",\"master\\'s degree\",\"standard\",\"none\",\"62\",\"70\",\"75\"\\n\"female\",\"group D\",\"some college\",\"standard\",\"none\",\"69\",\"74\",\"74\"\\n\"female\",\"group B\",\"some college\",\"standard\",\"none\",\"63\",\"65\",\"61\"\\n\"female\",\"group E\",\"master\\'s degree\",\"free/reduced\",\"none\",\"56\",\"72\",\"65\"\\n\"male\",\"group D\",\"some college\",\"standard\",\"none\",\"40\",\"42\",\"38\"\\n\"male\",\"group E\",\"some college\",\"standard\",\"none\",\"97\",\"87\",\"82\"\\n\"male\",\"group E\",\"associate\\'s degree\",\"standard\",\"completed\",\"81\",\"81\",\"79\"\\n\"female\",\"group D\",\"associate\\'s degree\",\"standard\",\"none\",\"74\",\"81\",\"83\"\\n\"female\",\"group D\",\"some high school\",\"free/reduced\",\"none\",\"50\",\"64\",\"59\"\\n\"female\",\"group D\",\"associate\\'s degree\",\"free/reduced\",\"completed\",\"75\",\"90\",\"88\"\\n\"male\",\"group B\",\"associate\\'s degree\",\"free/reduced\",\"none\",\"57\",\"56\",\"57\"\\n\"male\",\"group C\",\"associate\\'s degree\",\"free/reduced\",\"none\",\"55\",\"61\",\"54\"\\n\"female\",\"group C\",\"associate\\'s degree\",\"standard\",\"none\",\"58\",\"73\",\"68\"\\n\"female\",\"group B\",\"associate\\'s degree\",\"standard\",\"none\",\"53\",\"58\",\"65\"\\n\"male\",\"group B\",\"some college\",\"free/reduced\",\"completed\",\"59\",\"65\",\"66\"\\n\"female\",\"group E\",\"associate\\'s degree\",\"free/reduced\",\"none\",\"50\",\"56\",\"54\"\\n\"male\",\"group B\",\"associate\\'s degree\",\"standard\",\"none\",\"65\",\"54\",\"57\"\\n\"female\",\"group A\",\"associate\\'s degree\",\"standard\",\"completed\",\"55\",\"65\",\"62\"\\n\"female\",\"group C\",\"high school\",\"standard\",\"none\",\"66\",\"71\",\"76\"\\n\"female\",\"group D\",\"associate\\'s degree\",\"free/reduced\",\"completed\",\"57\",\"74\",\"76\"\\n\"male\",\"group C\",\"high school\",\"standard\",\"completed\",\"82\",\"84\",\"82\"\\n\"male\",\"group E\",\"some college\",\"standard\",\"none\",\"53\",\"55\",\"48\"\\n\"male\",\"group E\",\"associate\\'s degree\",\"free/reduced\",\"completed\",\"77\",\"69\",\"68\"\\n\"male\",\"group C\",\"some college\",\"standard\",\"none\",\"53\",\"44\",\"42\"\\n\"male\",\"group D\",\"high school\",\"standard\",\"none\",\"88\",\"78\",\"75\"\\n\"female\",\"group C\",\"some high school\",\"free/reduced\",\"completed\",\"71\",\"84\",\"87\"\\n\"female\",\"group C\",\"high school\",\"free/reduced\",\"none\",\"33\",\"41\",\"43\"\\n\"female\",\"group E\",\"associate\\'s degree\",\"standard\",\"completed\",\"82\",\"85\",\"86\"\\n\"male\",\"group D\",\"associate\\'s degree\",\"standard\",\"none\",\"52\",\"55\",\"49\"\\n\"male\",\"group D\",\"some college\",\"standard\",\"completed\",\"58\",\"59\",\"58\"\\n\"female\",\"group C\",\"some high school\",\"free/reduced\",\"none\",\"0\",\"17\",\"10\"\\n\"male\",\"group E\",\"bachelor\\'s degree\",\"free/reduced\",\"completed\",\"79\",\"74\",\"72\"\\n\"male\",\"group A\",\"some high school\",\"free/reduced\",\"none\",\"39\",\"39\",\"34\"\\n\"male\",\"group A\",\"associate\\'s degree\",\"free/reduced\",\"none\",\"62\",\"61\",\"55\"\\n\"female\",\"group C\",\"associate\\'s degree\",\"standard\",\"none\",\"69\",\"80\",\"71\"\\n\"female\",\"group D\",\"some high school\",\"standard\",\"none\",\"59\",\"58\",\"59\"\\n\"male\",\"group B\",\"some high school\",\"standard\",\"none\",\"67\",\"64\",\"61\"\\n\"male\",\"group D\",\"some high school\",\"free/reduced\",\"none\",\"45\",\"37\",\"37\"\\n\"female\",\"group C\",\"some college\",\"standard\",\"none\",\"60\",\"72\",\"74\"\\n\"male\",\"group B\",\"associate\\'s degree\",\"free/reduced\",\"none\",\"61\",\"58\",\"56\"\\n\"female\",\"group C\",\"associate\\'s degree\",\"standard\",\"none\",\"39\",\"64\",\"57\"\\n\"female\",\"group D\",\"some college\",\"free/reduced\",\"completed\",\"58\",\"63\",\"73\"\\n\"male\",\"group D\",\"some college\",\"standard\",\"completed\",\"63\",\"55\",\"63\"\\n\"female\",\"group A\",\"associate\\'s degree\",\"free/reduced\",\"none\",\"41\",\"51\",\"48\"\\n\"male\",\"group C\",\"some high school\",\"free/reduced\",\"none\",\"61\",\"57\",\"56\"\\n\"male\",\"group C\",\"some high school\",\"standard\",\"none\",\"49\",\"49\",\"41\"\\n\"male\",\"group B\",\"associate\\'s degree\",\"free/reduced\",\"none\",\"44\",\"41\",\"38\"\\n\"male\",\"group E\",\"some high school\",\"standard\",\"none\",\"30\",\"26\",\"22\"\\n\"male\",\"group A\",\"bachelor\\'s degree\",\"standard\",\"completed\",\"80\",\"78\",\"81\"\\n\"female\",\"group D\",\"some high school\",\"standard\",\"completed\",\"61\",\"74\",\"72\"\\n\"female\",\"group E\",\"master\\'s degree\",\"standard\",\"none\",\"62\",\"68\",\"68\"\\n\"female\",\"group B\",\"associate\\'s degree\",\"standard\",\"none\",\"47\",\"49\",\"50\"\\n\"male\",\"group B\",\"high school\",\"free/reduced\",\"none\",\"49\",\"45\",\"45\"\\n\"male\",\"group A\",\"some college\",\"free/reduced\",\"completed\",\"50\",\"47\",\"54\"\\n\"male\",\"group E\",\"associate\\'s degree\",\"standard\",\"none\",\"72\",\"64\",\"63\"\\n\"male\",\"group D\",\"high school\",\"free/reduced\",\"none\",\"42\",\"39\",\"34\"\\n\"female\",\"group C\",\"some college\",\"standard\",\"none\",\"73\",\"80\",\"82\"\\n\"female\",\"group C\",\"some college\",\"free/reduced\",\"none\",\"76\",\"83\",\"88\"\\n\"female\",\"group D\",\"associate\\'s degree\",\"standard\",\"none\",\"71\",\"71\",\"74\"\\n\"female\",\"group A\",\"some college\",\"standard\",\"none\",\"58\",\"70\",\"67\"\\n\"female\",\"group D\",\"some high school\",\"standard\",\"none\",\"73\",\"86\",\"82\"\\n\"female\",\"group C\",\"bachelor\\'s degree\",\"standard\",\"none\",\"65\",\"72\",\"74\"\\n\"male\",\"group C\",\"high school\",\"free/reduced\",\"none\",\"27\",\"34\",\"36\"\\n\"male\",\"group C\",\"high school\",\"standard\",\"none\",\"71\",\"79\",\"71\"\\n\"male\",\"group C\",\"associate\\'s degree\",\"free/reduced\",\"completed\",\"43\",\"45\",\"50\"\\n\"female\",\"group B\",\"some college\",\"standard\",\"none\",\"79\",\"86\",\"92\"\\n\"male\",\"group C\",\"associate\\'s degree\",\"free/reduced\",\"completed\",\"78\",\"81\",\"82\"\\n\"male\",\"group B\",\"some high school\",\"standard\",\"completed\",\"65\",\"66\",\"62\"\\n\"female\",\"group E\",\"some college\",\"standard\",\"completed\",\"63\",\"72\",\"70\"\\n\"female\",\"group D\",\"some college\",\"free/reduced\",\"none\",\"58\",\"67\",\"62\"\\n\"female\",\"group D\",\"bachelor\\'s degree\",\"standard\",\"none\",\"65\",\"67\",\"62\"\\n\"male\",\"group B\",\"some college\",\"standard\",\"none\",\"79\",\"67\",\"67\"\\n\"male\",\"group D\",\"bachelor\\'s degree\",\"standard\",\"completed\",\"68\",\"74\",\"74\"\\n\"female\",\"group D\",\"associate\\'s degree\",\"standard\",\"none\",\"85\",\"91\",\"89\"\\n\"male\",\"group B\",\"high school\",\"standard\",\"completed\",\"60\",\"44\",\"47\"\\n\"male\",\"group C\",\"some college\",\"standard\",\"completed\",\"98\",\"86\",\"90\"\\n\"female\",\"group C\",\"some college\",\"standard\",\"none\",\"58\",\"67\",\"72\"\\n\"female\",\"group D\",\"master\\'s degree\",\"standard\",\"none\",\"87\",\"100\",\"100\"\\n\"male\",\"group E\",\"associate\\'s degree\",\"standard\",\"completed\",\"66\",\"63\",\"64\"\\n\"female\",\"group B\",\"associate\\'s degree\",\"free/reduced\",\"none\",\"52\",\"76\",\"70\"\\n\"female\",\"group B\",\"some high school\",\"standard\",\"none\",\"70\",\"64\",\"72\"\\n\"female\",\"group D\",\"associate\\'s degree\",\"free/reduced\",\"completed\",\"77\",\"89\",\"98\"\\n\"male\",\"group C\",\"high school\",\"standard\",\"none\",\"62\",\"55\",\"49\"\\n\"male\",\"group A\",\"associate\\'s degree\",\"standard\",\"none\",\"54\",\"53\",\"47\"\\n\"female\",\"group D\",\"some college\",\"standard\",\"none\",\"51\",\"58\",\"54\"\\n\"female\",\"group E\",\"bachelor\\'s degree\",\"standard\",\"completed\",\"99\",\"100\",\"100\"\\n\"male\",\"group C\",\"high school\",\"standard\",\"none\",\"84\",\"77\",\"74\"\\n\"female\",\"group B\",\"bachelor\\'s degree\",\"free/reduced\",\"none\",\"75\",\"85\",\"82\"\\n\"female\",\"group D\",\"bachelor\\'s degree\",\"standard\",\"none\",\"78\",\"82\",\"79\"\\n\"female\",\"group D\",\"some high school\",\"standard\",\"none\",\"51\",\"63\",\"61\"\\n\"female\",\"group C\",\"some college\",\"standard\",\"none\",\"55\",\"69\",\"65\"\\n\"female\",\"group C\",\"bachelor\\'s degree\",\"standard\",\"completed\",\"79\",\"92\",\"89\"\\n\"male\",\"group B\",\"associate\\'s degree\",\"standard\",\"completed\",\"91\",\"89\",\"92\"\\n\"female\",\"group C\",\"some college\",\"standard\",\"completed\",\"88\",\"93\",\"93\"\\n\"male\",\"group D\",\"high school\",\"free/reduced\",\"none\",\"63\",\"57\",\"56\"\\n\"male\",\"group E\",\"some college\",\"standard\",\"none\",\"83\",\"80\",\"73\"\\n\"female\",\"group B\",\"high school\",\"standard\",\"none\",\"87\",\"95\",\"86\"\\n\"male\",\"group B\",\"some high school\",\"standard\",\"none\",\"72\",\"68\",\"67\"\\n\"male\",\"group D\",\"some college\",\"standard\",\"completed\",\"65\",\"77\",\"74\"\\n\"male\",\"group D\",\"master\\'s degree\",\"standard\",\"none\",\"82\",\"82\",\"74\"\\n\"female\",\"group A\",\"bachelor\\'s degree\",\"standard\",\"none\",\"51\",\"49\",\"51\"\\n\"male\",\"group D\",\"master\\'s degree\",\"standard\",\"none\",\"89\",\"84\",\"82\"\\n\"male\",\"group C\",\"some high school\",\"free/reduced\",\"completed\",\"53\",\"37\",\"40\"\\n\"male\",\"group E\",\"some college\",\"free/reduced\",\"completed\",\"87\",\"74\",\"70\"\\n\"female\",\"group C\",\"some college\",\"standard\",\"completed\",\"75\",\"81\",\"84\"\\n\"male\",\"group D\",\"bachelor\\'s degree\",\"free/reduced\",\"completed\",\"74\",\"79\",\"75\"\\n\"male\",\"group C\",\"bachelor\\'s degree\",\"standard\",\"none\",\"58\",\"55\",\"48\"\\n\"male\",\"group B\",\"some high school\",\"standard\",\"completed\",\"51\",\"54\",\"41\"\\n\"male\",\"group E\",\"high school\",\"standard\",\"none\",\"70\",\"55\",\"56\"\\n\"female\",\"group C\",\"associate\\'s degree\",\"standard\",\"none\",\"59\",\"66\",\"67\"\\n\"male\",\"group D\",\"some college\",\"standard\",\"completed\",\"71\",\"61\",\"69\"\\n\"female\",\"group D\",\"some high school\",\"standard\",\"none\",\"76\",\"72\",\"71\"\\n\"female\",\"group C\",\"some college\",\"free/reduced\",\"none\",\"59\",\"62\",\"64\"\\n\"female\",\"group E\",\"some college\",\"free/reduced\",\"completed\",\"42\",\"55\",\"54\"\\n\"male\",\"group A\",\"high school\",\"standard\",\"none\",\"57\",\"43\",\"47\"\\n\"male\",\"group D\",\"some college\",\"standard\",\"none\",\"88\",\"73\",\"78\"\\n\"female\",\"group C\",\"some college\",\"free/reduced\",\"none\",\"22\",\"39\",\"33\"\\n\"male\",\"group B\",\"some high school\",\"standard\",\"none\",\"88\",\"84\",\"75\"\\n\"male\",\"group C\",\"associate\\'s degree\",\"free/reduced\",\"none\",\"73\",\"68\",\"66\"\\n\"female\",\"group D\",\"bachelor\\'s degree\",\"standard\",\"completed\",\"68\",\"75\",\"81\"\\n\"male\",\"group E\",\"associate\\'s degree\",\"free/reduced\",\"completed\",\"100\",\"100\",\"93\"\\n\"male\",\"group A\",\"some high school\",\"standard\",\"completed\",\"62\",\"67\",\"69\"\\n\"male\",\"group A\",\"bachelor\\'s degree\",\"standard\",\"none\",\"77\",\"67\",\"68\"\\n\"female\",\"group B\",\"associate\\'s degree\",\"standard\",\"completed\",\"59\",\"70\",\"66\"\\n\"male\",\"group D\",\"bachelor\\'s degree\",\"standard\",\"none\",\"54\",\"49\",\"47\"\\n\"male\",\"group D\",\"some high school\",\"standard\",\"none\",\"62\",\"67\",\"61\"\\n\"female\",\"group C\",\"some college\",\"standard\",\"completed\",\"70\",\"89\",\"88\"\\n\"female\",\"group E\",\"high school\",\"free/reduced\",\"completed\",\"66\",\"74\",\"78\"\\n\"male\",\"group B\",\"some college\",\"free/reduced\",\"none\",\"60\",\"60\",\"60\"\\n\"female\",\"group B\",\"associate\\'s degree\",\"standard\",\"completed\",\"61\",\"86\",\"87\"\\n\"male\",\"group D\",\"associate\\'s degree\",\"free/reduced\",\"none\",\"66\",\"62\",\"64\"\\n\"male\",\"group B\",\"associate\\'s degree\",\"free/reduced\",\"completed\",\"82\",\"78\",\"74\"\\n\"female\",\"group E\",\"some college\",\"free/reduced\",\"completed\",\"75\",\"88\",\"85\"\\n\"male\",\"group B\",\"master\\'s degree\",\"free/reduced\",\"none\",\"49\",\"53\",\"52\"\\n\"male\",\"group C\",\"high school\",\"standard\",\"none\",\"52\",\"53\",\"49\"\\n\"female\",\"group E\",\"master\\'s degree\",\"standard\",\"none\",\"81\",\"92\",\"91\"\\n\"female\",\"group C\",\"bachelor\\'s degree\",\"standard\",\"completed\",\"96\",\"100\",\"100\"\\n\"male\",\"group C\",\"high school\",\"free/reduced\",\"completed\",\"53\",\"51\",\"51\"\\n\"female\",\"group B\",\"master\\'s degree\",\"free/reduced\",\"completed\",\"58\",\"76\",\"78\"\\n\"female\",\"group B\",\"high school\",\"standard\",\"completed\",\"68\",\"83\",\"78\"\\n\"female\",\"group C\",\"some college\",\"free/reduced\",\"completed\",\"67\",\"75\",\"70\"\\n\"male\",\"group A\",\"high school\",\"standard\",\"completed\",\"72\",\"73\",\"74\"\\n\"male\",\"group E\",\"some high school\",\"standard\",\"none\",\"94\",\"88\",\"78\"\\n\"female\",\"group D\",\"some college\",\"standard\",\"none\",\"79\",\"86\",\"81\"\\n\"female\",\"group C\",\"associate\\'s degree\",\"standard\",\"none\",\"63\",\"67\",\"70\"\\n\"female\",\"group C\",\"bachelor\\'s degree\",\"free/reduced\",\"completed\",\"43\",\"51\",\"54\"\\n\"female\",\"group C\",\"master\\'s degree\",\"standard\",\"completed\",\"81\",\"91\",\"87\"\\n\"female\",\"group B\",\"high school\",\"free/reduced\",\"completed\",\"46\",\"54\",\"58\"\\n\"female\",\"group C\",\"associate\\'s degree\",\"standard\",\"completed\",\"71\",\"77\",\"77\"\\n\"female\",\"group B\",\"master\\'s degree\",\"free/reduced\",\"completed\",\"52\",\"70\",\"62\"\\n\"female\",\"group D\",\"some high school\",\"standard\",\"completed\",\"97\",\"100\",\"100\"\\n\"male\",\"group C\",\"master\\'s degree\",\"free/reduced\",\"completed\",\"62\",\"68\",\"75\"\\n\"female\",\"group C\",\"some college\",\"free/reduced\",\"none\",\"46\",\"64\",\"66\"\\n\"female\",\"group E\",\"high school\",\"standard\",\"none\",\"50\",\"50\",\"47\"\\n\"female\",\"group D\",\"associate\\'s degree\",\"standard\",\"none\",\"65\",\"69\",\"70\"\\n\"male\",\"group C\",\"some high school\",\"free/reduced\",\"completed\",\"45\",\"52\",\"49\"\\n\"male\",\"group C\",\"associate\\'s degree\",\"free/reduced\",\"completed\",\"65\",\"67\",\"65\"\\n\"male\",\"group E\",\"high school\",\"standard\",\"none\",\"80\",\"76\",\"65\"\\n\"male\",\"group D\",\"some high school\",\"standard\",\"completed\",\"62\",\"66\",\"68\"\\n\"male\",\"group B\",\"some high school\",\"free/reduced\",\"none\",\"48\",\"52\",\"45\"\\n\"female\",\"group C\",\"bachelor\\'s degree\",\"standard\",\"none\",\"77\",\"88\",\"87\"\\n\"female\",\"group E\",\"associate\\'s degree\",\"standard\",\"none\",\"66\",\"65\",\"69\"\\n\"male\",\"group D\",\"some college\",\"standard\",\"completed\",\"76\",\"83\",\"79\"\\n\"female\",\"group B\",\"some high school\",\"standard\",\"none\",\"62\",\"64\",\"66\"\\n\"male\",\"group D\",\"some college\",\"standard\",\"completed\",\"77\",\"62\",\"62\"\\n\"female\",\"group C\",\"master\\'s degree\",\"standard\",\"completed\",\"69\",\"84\",\"85\"\\n\"male\",\"group D\",\"associate\\'s degree\",\"standard\",\"none\",\"61\",\"55\",\"52\"\\n\"male\",\"group C\",\"some high school\",\"free/reduced\",\"completed\",\"59\",\"69\",\"65\"\\n\"male\",\"group E\",\"high school\",\"free/reduced\",\"none\",\"55\",\"56\",\"51\"\\n\"female\",\"group B\",\"some college\",\"free/reduced\",\"none\",\"45\",\"53\",\"55\"\\n\"female\",\"group B\",\"bachelor\\'s degree\",\"free/reduced\",\"none\",\"78\",\"79\",\"76\"\\n\"female\",\"group C\",\"associate\\'s degree\",\"standard\",\"completed\",\"67\",\"84\",\"86\"\\n\"female\",\"group D\",\"some college\",\"free/reduced\",\"none\",\"65\",\"81\",\"77\"\\n\"male\",\"group C\",\"associate\\'s degree\",\"standard\",\"none\",\"69\",\"77\",\"69\"\\n\"female\",\"group B\",\"associate\\'s degree\",\"standard\",\"none\",\"57\",\"69\",\"68\"\\n\"male\",\"group C\",\"some college\",\"standard\",\"none\",\"59\",\"41\",\"42\"\\n\"male\",\"group D\",\"some high school\",\"standard\",\"completed\",\"74\",\"71\",\"78\"\\n\"male\",\"group E\",\"bachelor\\'s degree\",\"standard\",\"none\",\"82\",\"62\",\"62\"\\n\"male\",\"group E\",\"high school\",\"standard\",\"completed\",\"81\",\"80\",\"76\"\\n\"female\",\"group B\",\"some college\",\"free/reduced\",\"none\",\"74\",\"81\",\"76\"\\n\"female\",\"group B\",\"some college\",\"free/reduced\",\"none\",\"58\",\"61\",\"66\"\\n\"male\",\"group D\",\"some high school\",\"free/reduced\",\"completed\",\"80\",\"79\",\"79\"\\n\"male\",\"group C\",\"some college\",\"free/reduced\",\"none\",\"35\",\"28\",\"27\"\\n\"female\",\"group C\",\"high school\",\"free/reduced\",\"none\",\"42\",\"62\",\"60\"\\n\"male\",\"group C\",\"associate\\'s degree\",\"free/reduced\",\"completed\",\"60\",\"51\",\"56\"\\n\"male\",\"group E\",\"high school\",\"standard\",\"completed\",\"87\",\"91\",\"81\"\\n\"male\",\"group B\",\"some high school\",\"standard\",\"completed\",\"84\",\"83\",\"75\"\\n\"female\",\"group E\",\"associate\\'s degree\",\"free/reduced\",\"completed\",\"83\",\"86\",\"88\"\\n\"female\",\"group C\",\"high school\",\"free/reduced\",\"none\",\"34\",\"42\",\"39\"\\n\"male\",\"group B\",\"high school\",\"free/reduced\",\"none\",\"66\",\"77\",\"70\"\\n\"male\",\"group B\",\"some high school\",\"standard\",\"completed\",\"61\",\"56\",\"56\"\\n\"female\",\"group D\",\"high school\",\"standard\",\"completed\",\"56\",\"68\",\"74\"\\n\"male\",\"group B\",\"associate\\'s degree\",\"standard\",\"none\",\"87\",\"85\",\"73\"\\n\"female\",\"group C\",\"some high school\",\"free/reduced\",\"none\",\"55\",\"65\",\"62\"\\n\"male\",\"group D\",\"some high school\",\"standard\",\"none\",\"86\",\"80\",\"75\"\\n\"female\",\"group B\",\"associate\\'s degree\",\"standard\",\"completed\",\"52\",\"66\",\"73\"\\n\"female\",\"group E\",\"master\\'s degree\",\"free/reduced\",\"none\",\"45\",\"56\",\"54\"\\n\"female\",\"group C\",\"some college\",\"standard\",\"none\",\"72\",\"72\",\"71\"\\n\"male\",\"group D\",\"high school\",\"standard\",\"none\",\"57\",\"50\",\"54\"\\n\"male\",\"group A\",\"some high school\",\"free/reduced\",\"none\",\"68\",\"72\",\"64\"\\n\"female\",\"group C\",\"some college\",\"standard\",\"completed\",\"88\",\"95\",\"94\"\\n\"male\",\"group D\",\"some college\",\"standard\",\"none\",\"76\",\"64\",\"66\"\\n\"male\",\"group C\",\"associate\\'s degree\",\"standard\",\"none\",\"46\",\"43\",\"42\"\\n\"female\",\"group B\",\"bachelor\\'s degree\",\"standard\",\"none\",\"67\",\"86\",\"83\"\\n\"male\",\"group E\",\"some high school\",\"standard\",\"none\",\"92\",\"87\",\"78\"\\n\"male\",\"group C\",\"bachelor\\'s degree\",\"standard\",\"completed\",\"83\",\"82\",\"84\"\\n\"male\",\"group D\",\"associate\\'s degree\",\"standard\",\"none\",\"80\",\"75\",\"77\"\\n\"male\",\"group D\",\"bachelor\\'s degree\",\"free/reduced\",\"none\",\"63\",\"66\",\"67\"\\n\"female\",\"group D\",\"some high school\",\"standard\",\"completed\",\"64\",\"60\",\"74\"\\n\"male\",\"group B\",\"some college\",\"standard\",\"none\",\"54\",\"52\",\"51\"\\n\"male\",\"group C\",\"associate\\'s degree\",\"standard\",\"none\",\"84\",\"80\",\"80\"\\n\"male\",\"group D\",\"high school\",\"free/reduced\",\"completed\",\"73\",\"68\",\"66\"\\n\"female\",\"group E\",\"bachelor\\'s degree\",\"standard\",\"none\",\"80\",\"83\",\"83\"\\n\"female\",\"group D\",\"high school\",\"standard\",\"none\",\"56\",\"52\",\"55\"\\n\"male\",\"group E\",\"some college\",\"standard\",\"none\",\"59\",\"51\",\"43\"\\n\"male\",\"group D\",\"some high school\",\"standard\",\"none\",\"75\",\"74\",\"69\"\\n\"male\",\"group C\",\"associate\\'s degree\",\"standard\",\"none\",\"85\",\"76\",\"71\"\\n\"male\",\"group E\",\"associate\\'s degree\",\"standard\",\"none\",\"89\",\"76\",\"74\"\\n\"female\",\"group B\",\"high school\",\"standard\",\"completed\",\"58\",\"70\",\"68\"\\n\"female\",\"group B\",\"high school\",\"standard\",\"none\",\"65\",\"64\",\"62\"\\n\"male\",\"group C\",\"high school\",\"standard\",\"none\",\"68\",\"60\",\"53\"\\n\"male\",\"group A\",\"some high school\",\"standard\",\"completed\",\"47\",\"49\",\"49\"\\n\"female\",\"group D\",\"some college\",\"free/reduced\",\"none\",\"71\",\"83\",\"83\"\\n\"female\",\"group B\",\"some high school\",\"standard\",\"completed\",\"60\",\"70\",\"70\"\\n\"male\",\"group D\",\"master\\'s degree\",\"standard\",\"none\",\"80\",\"80\",\"72\"\\n\"male\",\"group D\",\"high school\",\"standard\",\"none\",\"54\",\"52\",\"52\"\\n\"female\",\"group E\",\"some college\",\"standard\",\"none\",\"62\",\"73\",\"70\"\\n\"female\",\"group C\",\"associate\\'s degree\",\"free/reduced\",\"none\",\"64\",\"73\",\"68\"\\n\"male\",\"group C\",\"associate\\'s degree\",\"standard\",\"completed\",\"78\",\"77\",\"77\"\\n\"female\",\"group B\",\"some college\",\"standard\",\"none\",\"70\",\"75\",\"78\"\\n\"female\",\"group C\",\"master\\'s degree\",\"free/reduced\",\"completed\",\"65\",\"81\",\"81\"\\n\"female\",\"group C\",\"some high school\",\"free/reduced\",\"completed\",\"64\",\"79\",\"77\"\\n\"male\",\"group C\",\"some college\",\"standard\",\"completed\",\"79\",\"79\",\"78\"\\n\"female\",\"group C\",\"some high school\",\"free/reduced\",\"none\",\"44\",\"50\",\"51\"\\n\"female\",\"group E\",\"high school\",\"standard\",\"none\",\"99\",\"93\",\"90\"\\n\"male\",\"group D\",\"high school\",\"standard\",\"none\",\"76\",\"73\",\"68\"\\n\"male\",\"group D\",\"some high school\",\"free/reduced\",\"none\",\"59\",\"42\",\"41\"\\n\"female\",\"group C\",\"bachelor\\'s degree\",\"standard\",\"none\",\"63\",\"75\",\"81\"\\n\"female\",\"group D\",\"high school\",\"standard\",\"none\",\"69\",\"72\",\"77\"\\n\"female\",\"group D\",\"associate\\'s degree\",\"standard\",\"completed\",\"88\",\"92\",\"95\"\\n\"female\",\"group E\",\"some college\",\"free/reduced\",\"none\",\"71\",\"76\",\"70\"\\n\"male\",\"group C\",\"bachelor\\'s degree\",\"standard\",\"none\",\"69\",\"63\",\"61\"\\n\"male\",\"group C\",\"some college\",\"standard\",\"none\",\"58\",\"49\",\"42\"\\n\"female\",\"group D\",\"associate\\'s degree\",\"free/reduced\",\"none\",\"47\",\"53\",\"58\"\\n\"female\",\"group D\",\"some college\",\"standard\",\"none\",\"65\",\"70\",\"71\"\\n\"male\",\"group B\",\"some college\",\"standard\",\"completed\",\"88\",\"85\",\"76\"\\n\"male\",\"group C\",\"bachelor\\'s degree\",\"standard\",\"none\",\"83\",\"78\",\"73\"\\n\"female\",\"group C\",\"some high school\",\"standard\",\"completed\",\"85\",\"92\",\"93\"\\n\"female\",\"group E\",\"high school\",\"standard\",\"completed\",\"59\",\"63\",\"75\"\\n\"female\",\"group C\",\"some high school\",\"free/reduced\",\"none\",\"65\",\"86\",\"80\"\\n\"male\",\"group B\",\"bachelor\\'s degree\",\"free/reduced\",\"none\",\"73\",\"56\",\"57\"\\n\"male\",\"group D\",\"high school\",\"standard\",\"none\",\"53\",\"52\",\"42\"\\n\"male\",\"group D\",\"high school\",\"standard\",\"none\",\"45\",\"48\",\"46\"\\n\"female\",\"group D\",\"bachelor\\'s degree\",\"free/reduced\",\"none\",\"73\",\"79\",\"84\"\\n\"female\",\"group D\",\"some college\",\"free/reduced\",\"completed\",\"70\",\"78\",\"78\"\\n\"female\",\"group B\",\"some high school\",\"standard\",\"none\",\"37\",\"46\",\"46\"\\n\"male\",\"group B\",\"associate\\'s degree\",\"standard\",\"completed\",\"81\",\"82\",\"82\"\\n\"male\",\"group E\",\"associate\\'s degree\",\"standard\",\"completed\",\"97\",\"82\",\"88\"\\n\"female\",\"group B\",\"some high school\",\"standard\",\"none\",\"67\",\"89\",\"82\"\\n\"male\",\"group B\",\"bachelor\\'s degree\",\"free/reduced\",\"none\",\"88\",\"75\",\"76\"\\n\"male\",\"group E\",\"some high school\",\"standard\",\"completed\",\"77\",\"76\",\"77\"\\n\"male\",\"group C\",\"associate\\'s degree\",\"standard\",\"none\",\"76\",\"70\",\"68\"\\n\"male\",\"group D\",\"some high school\",\"standard\",\"none\",\"86\",\"73\",\"70\"\\n\"male\",\"group C\",\"some high school\",\"standard\",\"completed\",\"63\",\"60\",\"57\"\\n\"female\",\"group E\",\"bachelor\\'s degree\",\"standard\",\"none\",\"65\",\"73\",\"75\"\\n\"male\",\"group D\",\"high school\",\"free/reduced\",\"completed\",\"78\",\"77\",\"80\"\\n\"male\",\"group B\",\"associate\\'s degree\",\"free/reduced\",\"none\",\"67\",\"62\",\"60\"\\n\"male\",\"group A\",\"some high school\",\"standard\",\"completed\",\"46\",\"41\",\"43\"\\n\"male\",\"group E\",\"associate\\'s degree\",\"standard\",\"completed\",\"71\",\"74\",\"68\"\\n\"male\",\"group C\",\"high school\",\"free/reduced\",\"completed\",\"40\",\"46\",\"50\"\\n\"male\",\"group D\",\"associate\\'s degree\",\"free/reduced\",\"none\",\"90\",\"87\",\"75\"\\n\"male\",\"group A\",\"some college\",\"free/reduced\",\"completed\",\"81\",\"78\",\"81\"\\n\"male\",\"group D\",\"some high school\",\"free/reduced\",\"none\",\"56\",\"54\",\"52\"\\n\"female\",\"group C\",\"associate\\'s degree\",\"standard\",\"completed\",\"67\",\"84\",\"81\"\\n\"male\",\"group B\",\"associate\\'s degree\",\"standard\",\"none\",\"80\",\"76\",\"64\"\\n\"female\",\"group C\",\"associate\\'s degree\",\"standard\",\"completed\",\"74\",\"75\",\"83\"\\n\"male\",\"group A\",\"some college\",\"standard\",\"none\",\"69\",\"67\",\"69\"\\n\"male\",\"group E\",\"some college\",\"standard\",\"completed\",\"99\",\"87\",\"81\"\\n\"male\",\"group C\",\"some high school\",\"standard\",\"none\",\"51\",\"52\",\"44\"\\n\"female\",\"group B\",\"associate\\'s degree\",\"free/reduced\",\"none\",\"53\",\"71\",\"67\"\\n\"female\",\"group D\",\"high school\",\"free/reduced\",\"none\",\"49\",\"57\",\"52\"\\n\"female\",\"group B\",\"associate\\'s degree\",\"standard\",\"none\",\"73\",\"76\",\"80\"\\n\"male\",\"group B\",\"bachelor\\'s degree\",\"standard\",\"none\",\"66\",\"60\",\"57\"\\n\"male\",\"group D\",\"bachelor\\'s degree\",\"standard\",\"completed\",\"67\",\"61\",\"68\"\\n\"female\",\"group C\",\"associate\\'s degree\",\"free/reduced\",\"completed\",\"68\",\"67\",\"69\"\\n\"female\",\"group C\",\"bachelor\\'s degree\",\"standard\",\"completed\",\"59\",\"64\",\"75\"\\n\"male\",\"group C\",\"high school\",\"standard\",\"none\",\"71\",\"66\",\"65\"\\n\"female\",\"group D\",\"master\\'s degree\",\"standard\",\"completed\",\"77\",\"82\",\"91\"\\n\"male\",\"group C\",\"associate\\'s degree\",\"standard\",\"none\",\"83\",\"72\",\"78\"\\n\"male\",\"group B\",\"bachelor\\'s degree\",\"standard\",\"none\",\"63\",\"71\",\"69\"\\n\"female\",\"group D\",\"associate\\'s degree\",\"free/reduced\",\"none\",\"56\",\"65\",\"63\"\\n\"female\",\"group C\",\"high school\",\"free/reduced\",\"completed\",\"67\",\"79\",\"84\"\\n\"female\",\"group E\",\"high school\",\"standard\",\"none\",\"75\",\"86\",\"79\"\\n\"female\",\"group C\",\"some college\",\"standard\",\"none\",\"71\",\"81\",\"80\"\\n\"female\",\"group C\",\"some high school\",\"free/reduced\",\"none\",\"43\",\"53\",\"53\"\\n\"female\",\"group C\",\"high school\",\"free/reduced\",\"none\",\"41\",\"46\",\"43\"\\n\"female\",\"group C\",\"some college\",\"standard\",\"none\",\"82\",\"90\",\"94\"\\n\"male\",\"group C\",\"some college\",\"standard\",\"none\",\"61\",\"61\",\"62\"\\n\"male\",\"group A\",\"some college\",\"free/reduced\",\"none\",\"28\",\"23\",\"19\"\\n\"male\",\"group C\",\"associate\\'s degree\",\"standard\",\"completed\",\"82\",\"75\",\"77\"\\n\"female\",\"group B\",\"some high school\",\"standard\",\"none\",\"41\",\"55\",\"51\"\\n\"male\",\"group C\",\"high school\",\"standard\",\"none\",\"71\",\"60\",\"61\"\\n\"male\",\"group C\",\"associate\\'s degree\",\"standard\",\"none\",\"47\",\"37\",\"35\"\\n\"male\",\"group E\",\"associate\\'s degree\",\"standard\",\"completed\",\"62\",\"56\",\"53\"\\n\"male\",\"group B\",\"associate\\'s degree\",\"standard\",\"none\",\"90\",\"78\",\"81\"\\n\"female\",\"group C\",\"bachelor\\'s degree\",\"standard\",\"none\",\"83\",\"93\",\"95\"\\n\"female\",\"group B\",\"some college\",\"free/reduced\",\"none\",\"61\",\"68\",\"66\"\\n\"male\",\"group D\",\"some high school\",\"standard\",\"completed\",\"76\",\"70\",\"69\"\\n\"male\",\"group C\",\"associate\\'s degree\",\"standard\",\"none\",\"49\",\"51\",\"43\"\\n\"female\",\"group B\",\"some high school\",\"free/reduced\",\"none\",\"24\",\"38\",\"27\"\\n\"female\",\"group D\",\"some high school\",\"free/reduced\",\"completed\",\"35\",\"55\",\"60\"\\n\"male\",\"group C\",\"high school\",\"free/reduced\",\"none\",\"58\",\"61\",\"52\"\\n\"female\",\"group C\",\"high school\",\"standard\",\"none\",\"61\",\"73\",\"63\"\\n\"female\",\"group B\",\"high school\",\"standard\",\"completed\",\"69\",\"76\",\"74\"\\n\"male\",\"group D\",\"associate\\'s degree\",\"standard\",\"completed\",\"67\",\"72\",\"67\"\\n\"male\",\"group D\",\"some college\",\"standard\",\"none\",\"79\",\"73\",\"67\"\\n\"female\",\"group C\",\"high school\",\"standard\",\"none\",\"72\",\"80\",\"75\"\\n\"male\",\"group B\",\"some college\",\"standard\",\"none\",\"62\",\"61\",\"57\"\\n\"female\",\"group C\",\"bachelor\\'s degree\",\"standard\",\"completed\",\"77\",\"94\",\"95\"\\n\"male\",\"group D\",\"high school\",\"free/reduced\",\"none\",\"75\",\"74\",\"66\"\\n\"male\",\"group E\",\"associate\\'s degree\",\"standard\",\"none\",\"87\",\"74\",\"76\"\\n\"female\",\"group B\",\"bachelor\\'s degree\",\"standard\",\"none\",\"52\",\"65\",\"69\"\\n\"male\",\"group E\",\"some college\",\"standard\",\"none\",\"66\",\"57\",\"52\"\\n\"female\",\"group C\",\"some college\",\"standard\",\"completed\",\"63\",\"78\",\"80\"\\n\"female\",\"group C\",\"associate\\'s degree\",\"standard\",\"none\",\"46\",\"58\",\"57\"\\n\"female\",\"group C\",\"some college\",\"standard\",\"none\",\"59\",\"71\",\"70\"\\n\"female\",\"group B\",\"bachelor\\'s degree\",\"standard\",\"none\",\"61\",\"72\",\"70\"\\n\"male\",\"group A\",\"associate\\'s degree\",\"standard\",\"none\",\"63\",\"61\",\"61\"\\n\"female\",\"group C\",\"some college\",\"free/reduced\",\"completed\",\"42\",\"66\",\"69\"\\n\"male\",\"group D\",\"some college\",\"free/reduced\",\"none\",\"59\",\"62\",\"61\"\\n\"female\",\"group D\",\"some college\",\"standard\",\"none\",\"80\",\"90\",\"89\"\\n\"female\",\"group B\",\"high school\",\"standard\",\"none\",\"58\",\"62\",\"59\"\\n\"male\",\"group B\",\"some high school\",\"standard\",\"completed\",\"85\",\"84\",\"78\"\\n\"female\",\"group C\",\"some college\",\"standard\",\"none\",\"52\",\"58\",\"58\"\\n\"female\",\"group D\",\"some high school\",\"free/reduced\",\"none\",\"27\",\"34\",\"32\"\\n\"male\",\"group C\",\"some college\",\"standard\",\"none\",\"59\",\"60\",\"58\"\\n\"male\",\"group A\",\"bachelor\\'s degree\",\"free/reduced\",\"completed\",\"49\",\"58\",\"60\"\\n\"male\",\"group C\",\"high school\",\"standard\",\"completed\",\"69\",\"58\",\"53\"\\n\"male\",\"group C\",\"bachelor\\'s degree\",\"free/reduced\",\"none\",\"61\",\"66\",\"61\"\\n\"female\",\"group A\",\"some high school\",\"free/reduced\",\"none\",\"44\",\"64\",\"58\"\\n\"female\",\"group D\",\"some high school\",\"standard\",\"none\",\"73\",\"84\",\"85\"\\n\"male\",\"group E\",\"some college\",\"standard\",\"none\",\"84\",\"77\",\"71\"\\n\"female\",\"group C\",\"some college\",\"free/reduced\",\"completed\",\"45\",\"73\",\"70\"\\n\"male\",\"group D\",\"some high school\",\"standard\",\"none\",\"74\",\"74\",\"72\"\\n\"female\",\"group D\",\"some college\",\"standard\",\"completed\",\"82\",\"97\",\"96\"\\n\"female\",\"group D\",\"bachelor\\'s degree\",\"standard\",\"none\",\"59\",\"70\",\"73\"\\n\"male\",\"group E\",\"associate\\'s degree\",\"free/reduced\",\"none\",\"46\",\"43\",\"41\"\\n\"female\",\"group D\",\"some high school\",\"standard\",\"none\",\"80\",\"90\",\"82\"\\n\"female\",\"group D\",\"master\\'s degree\",\"free/reduced\",\"completed\",\"85\",\"95\",\"100\"\\n\"female\",\"group A\",\"some high school\",\"standard\",\"none\",\"71\",\"83\",\"77\"\\n\"male\",\"group A\",\"bachelor\\'s degree\",\"standard\",\"none\",\"66\",\"64\",\"62\"\\n\"female\",\"group B\",\"associate\\'s degree\",\"standard\",\"none\",\"80\",\"86\",\"83\"\\n\"male\",\"group C\",\"associate\\'s degree\",\"standard\",\"completed\",\"87\",\"100\",\"95\"\\n\"male\",\"group C\",\"master\\'s degree\",\"free/reduced\",\"none\",\"79\",\"81\",\"71\"\\n\"female\",\"group E\",\"some high school\",\"free/reduced\",\"none\",\"38\",\"49\",\"45\"\\n\"female\",\"group A\",\"some high school\",\"free/reduced\",\"none\",\"38\",\"43\",\"43\"\\n\"female\",\"group E\",\"some college\",\"standard\",\"none\",\"67\",\"76\",\"75\"\\n\"female\",\"group E\",\"bachelor\\'s degree\",\"standard\",\"none\",\"64\",\"73\",\"70\"\\n\"female\",\"group C\",\"associate\\'s degree\",\"free/reduced\",\"none\",\"57\",\"78\",\"67\"\\n\"female\",\"group D\",\"high school\",\"standard\",\"none\",\"62\",\"64\",\"64\"\\n\"male\",\"group D\",\"master\\'s degree\",\"standard\",\"none\",\"73\",\"70\",\"75\"\\n\"male\",\"group E\",\"some high school\",\"free/reduced\",\"completed\",\"73\",\"67\",\"59\"\\n\"female\",\"group D\",\"some college\",\"standard\",\"none\",\"77\",\"68\",\"77\"\\n\"male\",\"group E\",\"some college\",\"standard\",\"none\",\"76\",\"67\",\"67\"\\n\"male\",\"group C\",\"associate\\'s degree\",\"standard\",\"completed\",\"57\",\"54\",\"56\"\\n\"female\",\"group C\",\"some high school\",\"standard\",\"completed\",\"65\",\"74\",\"77\"\\n\"male\",\"group A\",\"high school\",\"free/reduced\",\"none\",\"48\",\"45\",\"41\"\\n\"female\",\"group B\",\"high school\",\"free/reduced\",\"none\",\"50\",\"67\",\"63\"\\n\"female\",\"group C\",\"associate\\'s degree\",\"standard\",\"none\",\"85\",\"89\",\"95\"\\n\"male\",\"group B\",\"some high school\",\"standard\",\"none\",\"74\",\"63\",\"57\"\\n\"male\",\"group D\",\"some high school\",\"standard\",\"none\",\"60\",\"59\",\"54\"\\n\"female\",\"group C\",\"some high school\",\"standard\",\"completed\",\"59\",\"54\",\"67\"\\n\"male\",\"group A\",\"some college\",\"standard\",\"none\",\"53\",\"43\",\"43\"\\n\"female\",\"group A\",\"some college\",\"free/reduced\",\"none\",\"49\",\"65\",\"55\"\\n\"female\",\"group D\",\"high school\",\"standard\",\"completed\",\"88\",\"99\",\"100\"\\n\"female\",\"group C\",\"high school\",\"standard\",\"none\",\"54\",\"59\",\"62\"\\n\"female\",\"group C\",\"some high school\",\"standard\",\"none\",\"63\",\"73\",\"68\"\\n\"male\",\"group B\",\"associate\\'s degree\",\"standard\",\"completed\",\"65\",\"65\",\"63\"\\n\"female\",\"group B\",\"associate\\'s degree\",\"standard\",\"none\",\"82\",\"80\",\"77\"\\n\"female\",\"group D\",\"high school\",\"free/reduced\",\"completed\",\"52\",\"57\",\"56\"\\n\"male\",\"group D\",\"associate\\'s degree\",\"standard\",\"completed\",\"87\",\"84\",\"85\"\\n\"female\",\"group D\",\"master\\'s degree\",\"standard\",\"completed\",\"70\",\"71\",\"74\"\\n\"male\",\"group E\",\"some college\",\"standard\",\"completed\",\"84\",\"83\",\"78\"\\n\"male\",\"group D\",\"associate\\'s degree\",\"standard\",\"none\",\"71\",\"66\",\"60\"\\n\"male\",\"group B\",\"some high school\",\"standard\",\"completed\",\"63\",\"67\",\"67\"\\n\"female\",\"group C\",\"bachelor\\'s degree\",\"free/reduced\",\"completed\",\"51\",\"72\",\"79\"\\n\"male\",\"group E\",\"high school\",\"standard\",\"none\",\"84\",\"73\",\"69\"\\n\"male\",\"group C\",\"bachelor\\'s degree\",\"standard\",\"completed\",\"71\",\"74\",\"68\"\\n\"male\",\"group C\",\"associate\\'s degree\",\"standard\",\"none\",\"74\",\"73\",\"67\"\\n\"male\",\"group D\",\"some college\",\"standard\",\"none\",\"68\",\"59\",\"62\"\\n\"male\",\"group E\",\"high school\",\"free/reduced\",\"completed\",\"57\",\"56\",\"54\"\\n\"female\",\"group C\",\"associate\\'s degree\",\"free/reduced\",\"completed\",\"82\",\"93\",\"93\"\\n\"female\",\"group D\",\"high school\",\"standard\",\"completed\",\"57\",\"58\",\"64\"\\n\"female\",\"group D\",\"master\\'s degree\",\"free/reduced\",\"completed\",\"47\",\"58\",\"67\"\\n\"female\",\"group A\",\"some high school\",\"standard\",\"completed\",\"59\",\"85\",\"80\"\\n\"male\",\"group B\",\"some college\",\"free/reduced\",\"none\",\"41\",\"39\",\"34\"\\n\"female\",\"group C\",\"some college\",\"free/reduced\",\"none\",\"62\",\"67\",\"62\"\\n\"male\",\"group C\",\"bachelor\\'s degree\",\"standard\",\"none\",\"86\",\"83\",\"86\"\\n\"male\",\"group C\",\"some high school\",\"free/reduced\",\"none\",\"69\",\"71\",\"65\"\\n\"male\",\"group A\",\"some high school\",\"free/reduced\",\"none\",\"65\",\"59\",\"53\"\\n\"male\",\"group C\",\"some high school\",\"free/reduced\",\"none\",\"68\",\"63\",\"54\"\\n\"male\",\"group C\",\"associate\\'s degree\",\"free/reduced\",\"none\",\"64\",\"66\",\"59\"\\n\"female\",\"group C\",\"high school\",\"standard\",\"none\",\"61\",\"72\",\"70\"\\n\"male\",\"group C\",\"high school\",\"standard\",\"none\",\"61\",\"56\",\"55\"\\n\"female\",\"group A\",\"some high school\",\"free/reduced\",\"none\",\"47\",\"59\",\"50\"\\n\"male\",\"group C\",\"some high school\",\"standard\",\"none\",\"73\",\"66\",\"66\"\\n\"male\",\"group C\",\"some college\",\"free/reduced\",\"completed\",\"50\",\"48\",\"53\"\\n\"male\",\"group D\",\"associate\\'s degree\",\"standard\",\"none\",\"75\",\"68\",\"64\"\\n\"male\",\"group D\",\"associate\\'s degree\",\"free/reduced\",\"none\",\"75\",\"66\",\"73\"\\n\"male\",\"group C\",\"high school\",\"standard\",\"none\",\"70\",\"56\",\"51\"\\n\"male\",\"group D\",\"some high school\",\"standard\",\"completed\",\"89\",\"88\",\"82\"\\n\"female\",\"group C\",\"some college\",\"standard\",\"completed\",\"67\",\"81\",\"79\"\\n\"female\",\"group D\",\"high school\",\"standard\",\"none\",\"78\",\"81\",\"80\"\\n\"female\",\"group A\",\"some high school\",\"free/reduced\",\"none\",\"59\",\"73\",\"69\"\\n\"female\",\"group B\",\"associate\\'s degree\",\"standard\",\"none\",\"73\",\"83\",\"76\"\\n\"male\",\"group A\",\"some high school\",\"free/reduced\",\"none\",\"79\",\"82\",\"73\"\\n\"female\",\"group C\",\"some high school\",\"standard\",\"completed\",\"67\",\"74\",\"77\"\\n\"male\",\"group D\",\"some college\",\"free/reduced\",\"none\",\"69\",\"66\",\"60\"\\n\"male\",\"group C\",\"high school\",\"standard\",\"completed\",\"86\",\"81\",\"80\"\\n\"male\",\"group B\",\"high school\",\"standard\",\"none\",\"47\",\"46\",\"42\"\\n\"male\",\"group B\",\"associate\\'s degree\",\"standard\",\"none\",\"81\",\"73\",\"72\"\\n\"female\",\"group C\",\"some college\",\"free/reduced\",\"completed\",\"64\",\"85\",\"85\"\\n\"female\",\"group E\",\"some college\",\"standard\",\"none\",\"100\",\"92\",\"97\"\\n\"female\",\"group C\",\"associate\\'s degree\",\"free/reduced\",\"none\",\"65\",\"77\",\"74\"\\n\"male\",\"group C\",\"some college\",\"free/reduced\",\"none\",\"65\",\"58\",\"49\"\\n\"female\",\"group C\",\"associate\\'s degree\",\"free/reduced\",\"none\",\"53\",\"61\",\"62\"\\n\"male\",\"group C\",\"bachelor\\'s degree\",\"free/reduced\",\"none\",\"37\",\"56\",\"47\"\\n\"female\",\"group D\",\"bachelor\\'s degree\",\"standard\",\"none\",\"79\",\"89\",\"89\"\\n\"male\",\"group D\",\"associate\\'s degree\",\"free/reduced\",\"none\",\"53\",\"54\",\"48\"\\n\"female\",\"group E\",\"bachelor\\'s degree\",\"standard\",\"none\",\"100\",\"100\",\"100\"\\n\"male\",\"group B\",\"high school\",\"standard\",\"completed\",\"72\",\"65\",\"68\"\\n\"male\",\"group C\",\"bachelor\\'s degree\",\"free/reduced\",\"none\",\"53\",\"58\",\"55\"\\n\"male\",\"group B\",\"some college\",\"free/reduced\",\"none\",\"54\",\"54\",\"45\"\\n\"female\",\"group E\",\"some college\",\"standard\",\"none\",\"71\",\"70\",\"76\"\\n\"female\",\"group C\",\"some college\",\"free/reduced\",\"none\",\"77\",\"90\",\"91\"\\n\"male\",\"group A\",\"bachelor\\'s degree\",\"standard\",\"completed\",\"75\",\"58\",\"62\"\\n\"female\",\"group C\",\"some college\",\"standard\",\"none\",\"84\",\"87\",\"91\"\\n\"female\",\"group D\",\"associate\\'s degree\",\"free/reduced\",\"none\",\"26\",\"31\",\"38\"\\n\"male\",\"group A\",\"high school\",\"free/reduced\",\"completed\",\"72\",\"67\",\"65\"\\n\"female\",\"group A\",\"high school\",\"free/reduced\",\"completed\",\"77\",\"88\",\"85\"\\n\"male\",\"group C\",\"some college\",\"standard\",\"none\",\"91\",\"74\",\"76\"\\n\"female\",\"group C\",\"associate\\'s degree\",\"standard\",\"completed\",\"83\",\"85\",\"90\"\\n\"female\",\"group C\",\"high school\",\"standard\",\"none\",\"63\",\"69\",\"74\"\\n\"female\",\"group C\",\"associate\\'s degree\",\"standard\",\"completed\",\"68\",\"86\",\"84\"\\n\"female\",\"group D\",\"some high school\",\"standard\",\"none\",\"59\",\"67\",\"61\"\\n\"female\",\"group B\",\"associate\\'s degree\",\"standard\",\"completed\",\"90\",\"90\",\"91\"\\n\"female\",\"group D\",\"bachelor\\'s degree\",\"standard\",\"completed\",\"71\",\"76\",\"83\"\\n\"male\",\"group E\",\"bachelor\\'s degree\",\"standard\",\"completed\",\"76\",\"62\",\"66\"\\n\"male\",\"group D\",\"associate\\'s degree\",\"standard\",\"none\",\"80\",\"68\",\"72\"\\n\"female\",\"group D\",\"master\\'s degree\",\"standard\",\"none\",\"55\",\"64\",\"70\"\\n\"male\",\"group E\",\"associate\\'s degree\",\"standard\",\"none\",\"76\",\"71\",\"67\"\\n\"male\",\"group B\",\"high school\",\"standard\",\"completed\",\"73\",\"71\",\"68\"\\n\"female\",\"group D\",\"associate\\'s degree\",\"free/reduced\",\"none\",\"52\",\"59\",\"56\"\\n\"male\",\"group C\",\"some college\",\"free/reduced\",\"none\",\"68\",\"68\",\"61\"\\n\"male\",\"group A\",\"high school\",\"standard\",\"none\",\"59\",\"52\",\"46\"\\n\"female\",\"group B\",\"associate\\'s degree\",\"standard\",\"none\",\"49\",\"52\",\"54\"\\n\"male\",\"group C\",\"high school\",\"standard\",\"none\",\"70\",\"74\",\"71\"\\n\"male\",\"group D\",\"some college\",\"free/reduced\",\"none\",\"61\",\"47\",\"56\"\\n\"female\",\"group C\",\"associate\\'s degree\",\"free/reduced\",\"none\",\"60\",\"75\",\"74\"\\n\"male\",\"group B\",\"some high school\",\"standard\",\"completed\",\"64\",\"53\",\"57\"\\n\"male\",\"group A\",\"associate\\'s degree\",\"free/reduced\",\"completed\",\"79\",\"82\",\"82\"\\n\"female\",\"group A\",\"associate\\'s degree\",\"free/reduced\",\"none\",\"65\",\"85\",\"76\"\\n\"female\",\"group C\",\"associate\\'s degree\",\"standard\",\"none\",\"64\",\"64\",\"70\"\\n\"female\",\"group C\",\"some college\",\"standard\",\"none\",\"83\",\"83\",\"90\"\\n\"female\",\"group C\",\"bachelor\\'s degree\",\"standard\",\"none\",\"81\",\"88\",\"90\"\\n\"female\",\"group B\",\"high school\",\"standard\",\"none\",\"54\",\"64\",\"68\"\\n\"male\",\"group D\",\"high school\",\"standard\",\"completed\",\"68\",\"64\",\"66\"\\n\"female\",\"group C\",\"some college\",\"standard\",\"none\",\"54\",\"48\",\"52\"\\n\"female\",\"group D\",\"some college\",\"free/reduced\",\"completed\",\"59\",\"78\",\"76\"\\n\"female\",\"group B\",\"some high school\",\"standard\",\"none\",\"66\",\"69\",\"68\"\\n\"male\",\"group E\",\"some college\",\"standard\",\"none\",\"76\",\"71\",\"72\"\\n\"female\",\"group D\",\"master\\'s degree\",\"standard\",\"none\",\"74\",\"79\",\"82\"\\n\"female\",\"group B\",\"associate\\'s degree\",\"standard\",\"completed\",\"94\",\"87\",\"92\"\\n\"male\",\"group C\",\"some college\",\"free/reduced\",\"none\",\"63\",\"61\",\"54\"\\n\"female\",\"group E\",\"associate\\'s degree\",\"standard\",\"completed\",\"95\",\"89\",\"92\"\\n\"female\",\"group D\",\"master\\'s degree\",\"free/reduced\",\"none\",\"40\",\"59\",\"54\"\\n\"female\",\"group B\",\"some high school\",\"standard\",\"none\",\"82\",\"82\",\"80\"\\n\"male\",\"group A\",\"high school\",\"standard\",\"none\",\"68\",\"70\",\"66\"\\n\"male\",\"group B\",\"bachelor\\'s degree\",\"free/reduced\",\"none\",\"55\",\"59\",\"54\"\\n\"male\",\"group C\",\"master\\'s degree\",\"standard\",\"none\",\"79\",\"78\",\"77\"\\n\"female\",\"group C\",\"bachelor\\'s degree\",\"standard\",\"none\",\"86\",\"92\",\"87\"\\n\"male\",\"group D\",\"some college\",\"standard\",\"none\",\"76\",\"71\",\"73\"\\n\"male\",\"group A\",\"some high school\",\"standard\",\"none\",\"64\",\"50\",\"43\"\\n\"male\",\"group D\",\"some high school\",\"free/reduced\",\"none\",\"62\",\"49\",\"52\"\\n\"female\",\"group B\",\"some high school\",\"standard\",\"completed\",\"54\",\"61\",\"62\"\\n\"female\",\"group B\",\"master\\'s degree\",\"free/reduced\",\"completed\",\"77\",\"97\",\"94\"\\n\"female\",\"group C\",\"some high school\",\"standard\",\"completed\",\"76\",\"87\",\"85\"\\n\"female\",\"group D\",\"some college\",\"standard\",\"none\",\"74\",\"89\",\"84\"\\n\"female\",\"group E\",\"some college\",\"standard\",\"completed\",\"66\",\"74\",\"73\"\\n\"female\",\"group D\",\"some high school\",\"standard\",\"completed\",\"66\",\"78\",\"78\"\\n\"female\",\"group B\",\"high school\",\"free/reduced\",\"completed\",\"67\",\"78\",\"79\"\\n\"male\",\"group D\",\"some college\",\"standard\",\"none\",\"71\",\"49\",\"52\"\\n\"female\",\"group C\",\"associate\\'s degree\",\"standard\",\"none\",\"91\",\"86\",\"84\"\\n\"male\",\"group D\",\"bachelor\\'s degree\",\"standard\",\"none\",\"69\",\"58\",\"57\"\\n\"male\",\"group C\",\"master\\'s degree\",\"free/reduced\",\"none\",\"54\",\"59\",\"50\"\\n\"male\",\"group C\",\"high school\",\"standard\",\"completed\",\"53\",\"52\",\"49\"\\n\"male\",\"group E\",\"some college\",\"standard\",\"none\",\"68\",\"60\",\"59\"\\n\"male\",\"group C\",\"some high school\",\"free/reduced\",\"completed\",\"56\",\"61\",\"60\"\\n\"female\",\"group C\",\"high school\",\"free/reduced\",\"none\",\"36\",\"53\",\"43\"\\n\"female\",\"group D\",\"bachelor\\'s degree\",\"free/reduced\",\"none\",\"29\",\"41\",\"47\"\\n\"female\",\"group C\",\"associate\\'s degree\",\"standard\",\"none\",\"62\",\"74\",\"70\"\\n\"female\",\"group C\",\"associate\\'s degree\",\"standard\",\"completed\",\"68\",\"67\",\"73\"\\n\"female\",\"group C\",\"some high school\",\"standard\",\"none\",\"47\",\"54\",\"53\"\\n\"male\",\"group E\",\"associate\\'s degree\",\"standard\",\"completed\",\"62\",\"61\",\"58\"\\n\"female\",\"group E\",\"associate\\'s degree\",\"standard\",\"completed\",\"79\",\"88\",\"94\"\\n\"male\",\"group B\",\"high school\",\"standard\",\"completed\",\"73\",\"69\",\"68\"\\n\"female\",\"group C\",\"bachelor\\'s degree\",\"free/reduced\",\"completed\",\"66\",\"83\",\"83\"\\n\"male\",\"group C\",\"associate\\'s degree\",\"standard\",\"completed\",\"51\",\"60\",\"58\"\\n\"female\",\"group D\",\"high school\",\"standard\",\"none\",\"51\",\"66\",\"62\"\\n\"male\",\"group E\",\"bachelor\\'s degree\",\"standard\",\"completed\",\"85\",\"66\",\"71\"\\n\"male\",\"group A\",\"associate\\'s degree\",\"standard\",\"completed\",\"97\",\"92\",\"86\"\\n\"male\",\"group C\",\"high school\",\"standard\",\"completed\",\"75\",\"69\",\"68\"\\n\"male\",\"group D\",\"associate\\'s degree\",\"free/reduced\",\"completed\",\"79\",\"82\",\"80\"\\n\"female\",\"group C\",\"associate\\'s degree\",\"standard\",\"none\",\"81\",\"77\",\"79\"\\n\"female\",\"group D\",\"associate\\'s degree\",\"standard\",\"none\",\"82\",\"95\",\"89\"\\n\"female\",\"group D\",\"master\\'s degree\",\"standard\",\"none\",\"64\",\"63\",\"66\"\\n\"male\",\"group E\",\"some high school\",\"free/reduced\",\"completed\",\"78\",\"83\",\"80\"\\n\"female\",\"group A\",\"some high school\",\"standard\",\"completed\",\"92\",\"100\",\"97\"\\n\"male\",\"group C\",\"high school\",\"standard\",\"completed\",\"72\",\"67\",\"64\"\\n\"female\",\"group C\",\"high school\",\"free/reduced\",\"none\",\"62\",\"67\",\"64\"\\n\"male\",\"group C\",\"master\\'s degree\",\"standard\",\"none\",\"79\",\"72\",\"69\"\\n\"male\",\"group C\",\"some high school\",\"free/reduced\",\"none\",\"79\",\"76\",\"65\"\\n\"male\",\"group B\",\"bachelor\\'s degree\",\"free/reduced\",\"completed\",\"87\",\"90\",\"88\"\\n\"female\",\"group B\",\"associate\\'s degree\",\"standard\",\"none\",\"40\",\"48\",\"50\"\\n\"male\",\"group D\",\"some college\",\"free/reduced\",\"none\",\"77\",\"62\",\"64\"\\n\"male\",\"group E\",\"associate\\'s degree\",\"standard\",\"none\",\"53\",\"45\",\"40\"\\n\"female\",\"group C\",\"some college\",\"free/reduced\",\"none\",\"32\",\"39\",\"33\"\\n\"female\",\"group C\",\"associate\\'s degree\",\"standard\",\"completed\",\"55\",\"72\",\"79\"\\n\"male\",\"group C\",\"master\\'s degree\",\"free/reduced\",\"none\",\"61\",\"67\",\"66\"\\n\"female\",\"group B\",\"associate\\'s degree\",\"free/reduced\",\"none\",\"53\",\"70\",\"70\"\\n\"male\",\"group D\",\"some high school\",\"standard\",\"none\",\"73\",\"66\",\"62\"\\n\"female\",\"group D\",\"some college\",\"standard\",\"completed\",\"74\",\"75\",\"79\"\\n\"female\",\"group C\",\"some college\",\"standard\",\"none\",\"63\",\"74\",\"74\"\\n\"male\",\"group C\",\"bachelor\\'s degree\",\"standard\",\"completed\",\"96\",\"90\",\"92\"\\n\"female\",\"group D\",\"some college\",\"free/reduced\",\"completed\",\"63\",\"80\",\"80\"\\n\"male\",\"group B\",\"bachelor\\'s degree\",\"free/reduced\",\"none\",\"48\",\"51\",\"46\"\\n\"male\",\"group B\",\"associate\\'s degree\",\"standard\",\"none\",\"48\",\"43\",\"45\"\\n\"female\",\"group E\",\"bachelor\\'s degree\",\"free/reduced\",\"completed\",\"92\",\"100\",\"100\"\\n\"female\",\"group D\",\"master\\'s degree\",\"free/reduced\",\"completed\",\"61\",\"71\",\"78\"\\n\"male\",\"group B\",\"high school\",\"free/reduced\",\"none\",\"63\",\"48\",\"47\"\\n\"male\",\"group D\",\"bachelor\\'s degree\",\"free/reduced\",\"none\",\"68\",\"68\",\"67\"\\n\"male\",\"group B\",\"some college\",\"standard\",\"completed\",\"71\",\"75\",\"70\"\\n\"male\",\"group A\",\"bachelor\\'s degree\",\"standard\",\"none\",\"91\",\"96\",\"92\"\\n\"female\",\"group C\",\"some college\",\"standard\",\"none\",\"53\",\"62\",\"56\"\\n\"female\",\"group C\",\"high school\",\"free/reduced\",\"completed\",\"50\",\"66\",\"64\"\\n\"female\",\"group E\",\"high school\",\"standard\",\"none\",\"74\",\"81\",\"71\"\\n\"male\",\"group A\",\"associate\\'s degree\",\"free/reduced\",\"completed\",\"40\",\"55\",\"53\"\\n\"male\",\"group A\",\"some college\",\"standard\",\"completed\",\"61\",\"51\",\"52\"\\n\"female\",\"group B\",\"high school\",\"standard\",\"none\",\"81\",\"91\",\"89\"\\n\"female\",\"group B\",\"some college\",\"free/reduced\",\"completed\",\"48\",\"56\",\"58\"\\n\"female\",\"group D\",\"master\\'s degree\",\"standard\",\"none\",\"53\",\"61\",\"68\"\\n\"female\",\"group D\",\"some high school\",\"standard\",\"none\",\"81\",\"97\",\"96\"\\n\"female\",\"group E\",\"some high school\",\"standard\",\"none\",\"77\",\"79\",\"80\"\\n\"female\",\"group D\",\"bachelor\\'s degree\",\"free/reduced\",\"none\",\"63\",\"73\",\"78\"\\n\"female\",\"group D\",\"associate\\'s degree\",\"standard\",\"completed\",\"73\",\"75\",\"80\"\\n\"female\",\"group D\",\"some college\",\"standard\",\"none\",\"69\",\"77\",\"77\"\\n\"female\",\"group C\",\"associate\\'s degree\",\"standard\",\"none\",\"65\",\"76\",\"76\"\\n\"female\",\"group A\",\"high school\",\"standard\",\"none\",\"55\",\"73\",\"73\"\\n\"female\",\"group C\",\"bachelor\\'s degree\",\"free/reduced\",\"none\",\"44\",\"63\",\"62\"\\n\"female\",\"group C\",\"some college\",\"standard\",\"none\",\"54\",\"64\",\"65\"\\n\"female\",\"group A\",\"some high school\",\"standard\",\"none\",\"48\",\"66\",\"65\"\\n\"male\",\"group C\",\"some college\",\"free/reduced\",\"none\",\"58\",\"57\",\"54\"\\n\"male\",\"group A\",\"some high school\",\"standard\",\"none\",\"71\",\"62\",\"50\"\\n\"male\",\"group E\",\"bachelor\\'s degree\",\"standard\",\"none\",\"68\",\"68\",\"64\"\\n\"female\",\"group E\",\"high school\",\"standard\",\"none\",\"74\",\"76\",\"73\"\\n\"female\",\"group C\",\"bachelor\\'s degree\",\"standard\",\"completed\",\"92\",\"100\",\"99\"\\n\"female\",\"group C\",\"bachelor\\'s degree\",\"standard\",\"completed\",\"56\",\"79\",\"72\"\\n\"male\",\"group B\",\"high school\",\"free/reduced\",\"none\",\"30\",\"24\",\"15\"\\n\"male\",\"group A\",\"some high school\",\"standard\",\"none\",\"53\",\"54\",\"48\"\\n\"female\",\"group D\",\"high school\",\"standard\",\"none\",\"69\",\"77\",\"73\"\\n\"female\",\"group D\",\"some high school\",\"standard\",\"none\",\"65\",\"82\",\"81\"\\n\"female\",\"group D\",\"master\\'s degree\",\"standard\",\"none\",\"54\",\"60\",\"63\"\\n\"female\",\"group C\",\"high school\",\"standard\",\"none\",\"29\",\"29\",\"30\"\\n\"female\",\"group E\",\"some college\",\"standard\",\"none\",\"76\",\"78\",\"80\"\\n\"male\",\"group D\",\"high school\",\"free/reduced\",\"none\",\"60\",\"57\",\"51\"\\n\"male\",\"group D\",\"master\\'s degree\",\"free/reduced\",\"completed\",\"84\",\"89\",\"90\"\\n\"male\",\"group C\",\"some high school\",\"standard\",\"none\",\"75\",\"72\",\"62\"\\n\"female\",\"group C\",\"associate\\'s degree\",\"standard\",\"none\",\"85\",\"84\",\"82\"\\n\"female\",\"group C\",\"master\\'s degree\",\"free/reduced\",\"none\",\"40\",\"58\",\"54\"\\n\"female\",\"group E\",\"some college\",\"standard\",\"none\",\"61\",\"64\",\"62\"\\n\"female\",\"group B\",\"associate\\'s degree\",\"standard\",\"none\",\"58\",\"63\",\"65\"\\n\"male\",\"group D\",\"some college\",\"free/reduced\",\"completed\",\"69\",\"60\",\"63\"\\n\"female\",\"group C\",\"some college\",\"standard\",\"none\",\"58\",\"59\",\"66\"\\n\"male\",\"group C\",\"bachelor\\'s degree\",\"standard\",\"completed\",\"94\",\"90\",\"91\"\\n\"female\",\"group C\",\"associate\\'s degree\",\"standard\",\"none\",\"65\",\"77\",\"74\"\\n\"female\",\"group A\",\"associate\\'s degree\",\"standard\",\"none\",\"82\",\"93\",\"93\"\\n\"female\",\"group C\",\"high school\",\"standard\",\"none\",\"60\",\"68\",\"72\"\\n\"female\",\"group E\",\"bachelor\\'s degree\",\"standard\",\"none\",\"37\",\"45\",\"38\"\\n\"male\",\"group D\",\"bachelor\\'s degree\",\"standard\",\"none\",\"88\",\"78\",\"83\"\\n\"male\",\"group D\",\"master\\'s degree\",\"standard\",\"none\",\"95\",\"81\",\"84\"\\n\"male\",\"group C\",\"associate\\'s degree\",\"free/reduced\",\"completed\",\"65\",\"73\",\"68\"\\n\"female\",\"group C\",\"high school\",\"free/reduced\",\"none\",\"35\",\"61\",\"54\"\\n\"male\",\"group B\",\"bachelor\\'s degree\",\"free/reduced\",\"none\",\"62\",\"63\",\"56\"\\n\"male\",\"group C\",\"high school\",\"free/reduced\",\"completed\",\"58\",\"51\",\"52\"\\n\"male\",\"group A\",\"some college\",\"standard\",\"completed\",\"100\",\"96\",\"86\"\\n\"female\",\"group E\",\"bachelor\\'s degree\",\"free/reduced\",\"none\",\"61\",\"58\",\"62\"\\n\"male\",\"group D\",\"some college\",\"standard\",\"completed\",\"100\",\"97\",\"99\"\\n\"male\",\"group B\",\"associate\\'s degree\",\"free/reduced\",\"completed\",\"69\",\"70\",\"63\"\\n\"male\",\"group D\",\"associate\\'s degree\",\"standard\",\"none\",\"61\",\"48\",\"46\"\\n\"male\",\"group D\",\"some college\",\"free/reduced\",\"none\",\"49\",\"57\",\"46\"\\n\"female\",\"group C\",\"some high school\",\"standard\",\"completed\",\"44\",\"51\",\"55\"\\n\"male\",\"group D\",\"some college\",\"standard\",\"none\",\"67\",\"64\",\"70\"\\n\"male\",\"group B\",\"high school\",\"standard\",\"none\",\"79\",\"60\",\"65\"\\n\"female\",\"group B\",\"bachelor\\'s degree\",\"standard\",\"completed\",\"66\",\"74\",\"81\"\\n\"female\",\"group C\",\"high school\",\"standard\",\"none\",\"75\",\"88\",\"85\"\\n\"male\",\"group D\",\"some high school\",\"standard\",\"none\",\"84\",\"84\",\"80\"\\n\"male\",\"group A\",\"high school\",\"standard\",\"none\",\"71\",\"74\",\"64\"\\n\"female\",\"group B\",\"high school\",\"free/reduced\",\"completed\",\"67\",\"80\",\"81\"\\n\"female\",\"group D\",\"some high school\",\"standard\",\"completed\",\"80\",\"92\",\"88\"\\n\"male\",\"group E\",\"some college\",\"standard\",\"none\",\"86\",\"76\",\"74\"\\n\"female\",\"group D\",\"associate\\'s degree\",\"standard\",\"none\",\"76\",\"74\",\"73\"\\n\"male\",\"group D\",\"high school\",\"standard\",\"none\",\"41\",\"52\",\"51\"\\n\"female\",\"group D\",\"associate\\'s degree\",\"free/reduced\",\"completed\",\"74\",\"88\",\"90\"\\n\"female\",\"group B\",\"some high school\",\"free/reduced\",\"none\",\"72\",\"81\",\"79\"\\n\"female\",\"group E\",\"high school\",\"standard\",\"completed\",\"74\",\"79\",\"80\"\\n\"male\",\"group B\",\"high school\",\"standard\",\"none\",\"70\",\"65\",\"60\"\\n\"female\",\"group B\",\"bachelor\\'s degree\",\"standard\",\"completed\",\"65\",\"81\",\"81\"\\n\"female\",\"group D\",\"associate\\'s degree\",\"standard\",\"none\",\"59\",\"70\",\"65\"\\n\"female\",\"group E\",\"high school\",\"free/reduced\",\"none\",\"64\",\"62\",\"68\"\\n\"female\",\"group B\",\"high school\",\"standard\",\"none\",\"50\",\"53\",\"55\"\\n\"female\",\"group D\",\"some college\",\"standard\",\"completed\",\"69\",\"79\",\"81\"\\n\"male\",\"group C\",\"some high school\",\"free/reduced\",\"completed\",\"51\",\"56\",\"53\"\\n\"female\",\"group A\",\"high school\",\"standard\",\"completed\",\"68\",\"80\",\"76\"\\n\"female\",\"group D\",\"some college\",\"standard\",\"completed\",\"85\",\"86\",\"98\"\\n\"female\",\"group A\",\"associate\\'s degree\",\"standard\",\"completed\",\"65\",\"70\",\"74\"\\n\"female\",\"group B\",\"some high school\",\"standard\",\"none\",\"73\",\"79\",\"79\"\\n\"female\",\"group B\",\"some college\",\"standard\",\"none\",\"62\",\"67\",\"67\"\\n\"male\",\"group C\",\"associate\\'s degree\",\"free/reduced\",\"none\",\"77\",\"67\",\"64\"\\n\"male\",\"group D\",\"some high school\",\"standard\",\"none\",\"69\",\"66\",\"61\"\\n\"female\",\"group D\",\"associate\\'s degree\",\"free/reduced\",\"none\",\"43\",\"60\",\"58\"\\n\"male\",\"group D\",\"associate\\'s degree\",\"standard\",\"none\",\"90\",\"87\",\"85\"\\n\"male\",\"group C\",\"some college\",\"free/reduced\",\"none\",\"74\",\"77\",\"73\"\\n\"male\",\"group C\",\"some high school\",\"standard\",\"none\",\"73\",\"66\",\"63\"\\n\"female\",\"group D\",\"some college\",\"free/reduced\",\"none\",\"55\",\"71\",\"69\"\\n\"female\",\"group C\",\"high school\",\"standard\",\"none\",\"65\",\"69\",\"67\"\\n\"male\",\"group D\",\"associate\\'s degree\",\"standard\",\"none\",\"80\",\"63\",\"63\"\\n\"female\",\"group C\",\"some high school\",\"free/reduced\",\"completed\",\"50\",\"60\",\"60\"\\n\"female\",\"group C\",\"some college\",\"free/reduced\",\"completed\",\"63\",\"73\",\"71\"\\n\"female\",\"group B\",\"bachelor\\'s degree\",\"free/reduced\",\"none\",\"77\",\"85\",\"87\"\\n\"male\",\"group C\",\"some college\",\"standard\",\"none\",\"73\",\"74\",\"61\"\\n\"male\",\"group D\",\"associate\\'s degree\",\"standard\",\"completed\",\"81\",\"72\",\"77\"\\n\"female\",\"group C\",\"high school\",\"free/reduced\",\"none\",\"66\",\"76\",\"68\"\\n\"male\",\"group D\",\"associate\\'s degree\",\"free/reduced\",\"none\",\"52\",\"57\",\"50\"\\n\"female\",\"group C\",\"some college\",\"standard\",\"none\",\"69\",\"78\",\"76\"\\n\"female\",\"group C\",\"associate\\'s degree\",\"standard\",\"completed\",\"65\",\"84\",\"84\"\\n\"female\",\"group D\",\"high school\",\"standard\",\"completed\",\"69\",\"77\",\"78\"\\n\"female\",\"group B\",\"some college\",\"standard\",\"completed\",\"50\",\"64\",\"66\"\\n\"female\",\"group E\",\"some college\",\"standard\",\"completed\",\"73\",\"78\",\"76\"\\n\"female\",\"group C\",\"some high school\",\"standard\",\"completed\",\"70\",\"82\",\"76\"\\n\"male\",\"group D\",\"associate\\'s degree\",\"free/reduced\",\"none\",\"81\",\"75\",\"78\"\\n\"male\",\"group D\",\"some college\",\"free/reduced\",\"none\",\"63\",\"61\",\"60\"\\n\"female\",\"group D\",\"high school\",\"standard\",\"none\",\"67\",\"72\",\"74\"\\n\"male\",\"group B\",\"high school\",\"standard\",\"none\",\"60\",\"68\",\"60\"\\n\"male\",\"group B\",\"high school\",\"standard\",\"none\",\"62\",\"55\",\"54\"\\n\"female\",\"group C\",\"some high school\",\"free/reduced\",\"completed\",\"29\",\"40\",\"44\"\\n\"male\",\"group B\",\"some college\",\"standard\",\"completed\",\"62\",\"66\",\"68\"\\n\"female\",\"group E\",\"master\\'s degree\",\"standard\",\"completed\",\"94\",\"99\",\"100\"\\n\"male\",\"group E\",\"some college\",\"standard\",\"completed\",\"85\",\"75\",\"68\"\\n\"male\",\"group D\",\"associate\\'s degree\",\"free/reduced\",\"none\",\"77\",\"78\",\"73\"\\n\"male\",\"group A\",\"high school\",\"free/reduced\",\"none\",\"53\",\"58\",\"44\"\\n\"male\",\"group E\",\"some college\",\"free/reduced\",\"none\",\"93\",\"90\",\"83\"\\n\"female\",\"group C\",\"associate\\'s degree\",\"standard\",\"none\",\"49\",\"53\",\"53\"\\n\"female\",\"group E\",\"associate\\'s degree\",\"free/reduced\",\"none\",\"73\",\"76\",\"78\"\\n\"female\",\"group C\",\"bachelor\\'s degree\",\"free/reduced\",\"completed\",\"66\",\"74\",\"81\"\\n\"female\",\"group D\",\"associate\\'s degree\",\"standard\",\"none\",\"77\",\"77\",\"73\"\\n\"female\",\"group C\",\"some high school\",\"standard\",\"none\",\"49\",\"63\",\"56\"\\n\"female\",\"group D\",\"some college\",\"free/reduced\",\"none\",\"79\",\"89\",\"86\"\\n\"female\",\"group C\",\"associate\\'s degree\",\"standard\",\"completed\",\"75\",\"82\",\"90\"\\n\"female\",\"group A\",\"bachelor\\'s degree\",\"standard\",\"none\",\"59\",\"72\",\"70\"\\n\"female\",\"group D\",\"associate\\'s degree\",\"standard\",\"completed\",\"57\",\"78\",\"79\"\\n\"male\",\"group C\",\"high school\",\"free/reduced\",\"none\",\"66\",\"66\",\"59\"\\n\"female\",\"group E\",\"bachelor\\'s degree\",\"standard\",\"completed\",\"79\",\"81\",\"82\"\\n\"female\",\"group B\",\"some high school\",\"standard\",\"none\",\"57\",\"67\",\"72\"\\n\"male\",\"group A\",\"bachelor\\'s degree\",\"standard\",\"completed\",\"87\",\"84\",\"87\"\\n\"female\",\"group D\",\"some college\",\"standard\",\"none\",\"63\",\"64\",\"67\"\\n\"female\",\"group B\",\"some high school\",\"free/reduced\",\"completed\",\"59\",\"63\",\"64\"\\n\"male\",\"group A\",\"bachelor\\'s degree\",\"free/reduced\",\"none\",\"62\",\"72\",\"65\"\\n\"male\",\"group D\",\"high school\",\"standard\",\"none\",\"46\",\"34\",\"36\"\\n\"male\",\"group C\",\"some college\",\"standard\",\"none\",\"66\",\"59\",\"52\"\\n\"male\",\"group D\",\"high school\",\"standard\",\"none\",\"89\",\"87\",\"79\"\\n\"female\",\"group D\",\"associate\\'s degree\",\"free/reduced\",\"completed\",\"42\",\"61\",\"58\"\\n\"male\",\"group C\",\"some college\",\"standard\",\"completed\",\"93\",\"84\",\"90\"\\n\"female\",\"group E\",\"some high school\",\"standard\",\"completed\",\"80\",\"85\",\"85\"\\n\"female\",\"group D\",\"some college\",\"standard\",\"none\",\"98\",\"100\",\"99\"\\n\"male\",\"group D\",\"master\\'s degree\",\"standard\",\"none\",\"81\",\"81\",\"84\"\\n\"female\",\"group B\",\"some high school\",\"standard\",\"completed\",\"60\",\"70\",\"74\"\\n\"female\",\"group B\",\"associate\\'s degree\",\"free/reduced\",\"completed\",\"76\",\"94\",\"87\"\\n\"male\",\"group C\",\"associate\\'s degree\",\"standard\",\"completed\",\"73\",\"78\",\"72\"\\n\"female\",\"group C\",\"associate\\'s degree\",\"standard\",\"completed\",\"96\",\"96\",\"99\"\\n\"female\",\"group C\",\"high school\",\"standard\",\"none\",\"76\",\"76\",\"74\"\\n\"male\",\"group E\",\"associate\\'s degree\",\"free/reduced\",\"completed\",\"91\",\"73\",\"80\"\\n\"female\",\"group C\",\"some college\",\"free/reduced\",\"none\",\"62\",\"72\",\"70\"\\n\"male\",\"group D\",\"some high school\",\"free/reduced\",\"completed\",\"55\",\"59\",\"59\"\\n\"female\",\"group B\",\"some high school\",\"free/reduced\",\"completed\",\"74\",\"90\",\"88\"\\n\"male\",\"group C\",\"high school\",\"standard\",\"none\",\"50\",\"48\",\"42\"\\n\"male\",\"group B\",\"some college\",\"standard\",\"none\",\"47\",\"43\",\"41\"\\n\"male\",\"group E\",\"some college\",\"standard\",\"completed\",\"81\",\"74\",\"71\"\\n\"female\",\"group E\",\"associate\\'s degree\",\"standard\",\"completed\",\"65\",\"75\",\"77\"\\n\"male\",\"group E\",\"some high school\",\"standard\",\"completed\",\"68\",\"51\",\"57\"\\n\"female\",\"group D\",\"high school\",\"free/reduced\",\"none\",\"73\",\"92\",\"84\"\\n\"male\",\"group C\",\"some college\",\"standard\",\"none\",\"53\",\"39\",\"37\"\\n\"female\",\"group B\",\"associate\\'s degree\",\"free/reduced\",\"completed\",\"68\",\"77\",\"80\"\\n\"male\",\"group A\",\"some high school\",\"free/reduced\",\"none\",\"55\",\"46\",\"43\"\\n\"female\",\"group C\",\"some college\",\"standard\",\"completed\",\"87\",\"89\",\"94\"\\n\"male\",\"group D\",\"some high school\",\"standard\",\"none\",\"55\",\"47\",\"44\"\\n\"female\",\"group E\",\"some college\",\"free/reduced\",\"none\",\"53\",\"58\",\"57\"\\n\"male\",\"group C\",\"master\\'s degree\",\"standard\",\"none\",\"67\",\"57\",\"59\"\\n\"male\",\"group C\",\"associate\\'s degree\",\"standard\",\"none\",\"92\",\"79\",\"84\"\\n\"female\",\"group B\",\"some college\",\"free/reduced\",\"completed\",\"53\",\"66\",\"73\"\\n\"male\",\"group D\",\"associate\\'s degree\",\"standard\",\"none\",\"81\",\"71\",\"73\"\\n\"male\",\"group C\",\"high school\",\"free/reduced\",\"none\",\"61\",\"60\",\"55\"\\n\"male\",\"group D\",\"bachelor\\'s degree\",\"standard\",\"none\",\"80\",\"73\",\"72\"\\n\"female\",\"group A\",\"associate\\'s degree\",\"free/reduced\",\"none\",\"37\",\"57\",\"56\"\\n\"female\",\"group C\",\"high school\",\"standard\",\"none\",\"81\",\"84\",\"82\"\\n\"female\",\"group C\",\"associate\\'s degree\",\"standard\",\"completed\",\"59\",\"73\",\"72\"\\n\"male\",\"group B\",\"some college\",\"free/reduced\",\"none\",\"55\",\"55\",\"47\"\\n\"male\",\"group D\",\"associate\\'s degree\",\"standard\",\"none\",\"72\",\"79\",\"74\"\\n\"male\",\"group D\",\"high school\",\"standard\",\"none\",\"69\",\"75\",\"71\"\\n\"male\",\"group C\",\"some college\",\"standard\",\"none\",\"69\",\"64\",\"68\"\\n\"female\",\"group C\",\"bachelor\\'s degree\",\"free/reduced\",\"none\",\"50\",\"60\",\"59\"\\n\"male\",\"group B\",\"some college\",\"standard\",\"completed\",\"87\",\"84\",\"86\"\\n\"male\",\"group D\",\"some high school\",\"standard\",\"completed\",\"71\",\"69\",\"68\"\\n\"male\",\"group E\",\"some college\",\"standard\",\"none\",\"68\",\"72\",\"65\"\\n\"male\",\"group C\",\"master\\'s degree\",\"free/reduced\",\"completed\",\"79\",\"77\",\"75\"\\n\"female\",\"group C\",\"some high school\",\"standard\",\"completed\",\"77\",\"90\",\"85\"\\n\"male\",\"group C\",\"associate\\'s degree\",\"free/reduced\",\"none\",\"58\",\"55\",\"53\"\\n\"female\",\"group E\",\"associate\\'s degree\",\"standard\",\"none\",\"84\",\"95\",\"92\"\\n\"male\",\"group D\",\"some college\",\"standard\",\"none\",\"55\",\"58\",\"52\"\\n\"male\",\"group E\",\"bachelor\\'s degree\",\"free/reduced\",\"completed\",\"70\",\"68\",\"72\"\\n\"female\",\"group D\",\"some college\",\"free/reduced\",\"completed\",\"52\",\"59\",\"65\"\\n\"male\",\"group B\",\"some college\",\"standard\",\"completed\",\"69\",\"77\",\"77\"\\n\"female\",\"group C\",\"high school\",\"free/reduced\",\"none\",\"53\",\"72\",\"64\"\\n\"female\",\"group D\",\"some high school\",\"standard\",\"none\",\"48\",\"58\",\"54\"\\n\"male\",\"group D\",\"some high school\",\"standard\",\"completed\",\"78\",\"81\",\"86\"\\n\"female\",\"group B\",\"high school\",\"standard\",\"none\",\"62\",\"62\",\"63\"\\n\"male\",\"group D\",\"some college\",\"standard\",\"none\",\"60\",\"63\",\"59\"\\n\"female\",\"group B\",\"high school\",\"standard\",\"none\",\"74\",\"72\",\"72\"\\n\"female\",\"group C\",\"high school\",\"standard\",\"completed\",\"58\",\"75\",\"77\"\\n\"male\",\"group B\",\"high school\",\"standard\",\"completed\",\"76\",\"62\",\"60\"\\n\"female\",\"group D\",\"some high school\",\"standard\",\"none\",\"68\",\"71\",\"75\"\\n\"male\",\"group A\",\"some college\",\"free/reduced\",\"none\",\"58\",\"60\",\"57\"\\n\"male\",\"group B\",\"high school\",\"standard\",\"none\",\"52\",\"48\",\"49\"\\n\"male\",\"group D\",\"bachelor\\'s degree\",\"standard\",\"none\",\"75\",\"73\",\"74\"\\n\"female\",\"group B\",\"some high school\",\"free/reduced\",\"completed\",\"52\",\"67\",\"72\"\\n\"female\",\"group C\",\"bachelor\\'s degree\",\"free/reduced\",\"none\",\"62\",\"78\",\"79\"\\n\"male\",\"group B\",\"some college\",\"standard\",\"none\",\"66\",\"65\",\"60\"\\n\"female\",\"group B\",\"some high school\",\"free/reduced\",\"none\",\"49\",\"58\",\"55\"\\n\"female\",\"group B\",\"high school\",\"standard\",\"none\",\"66\",\"72\",\"70\"\\n\"female\",\"group C\",\"some college\",\"free/reduced\",\"none\",\"35\",\"44\",\"43\"\\n\"female\",\"group A\",\"some college\",\"standard\",\"completed\",\"72\",\"79\",\"82\"\\n\"male\",\"group E\",\"associate\\'s degree\",\"standard\",\"completed\",\"94\",\"85\",\"82\"\\n\"female\",\"group D\",\"associate\\'s degree\",\"free/reduced\",\"none\",\"46\",\"56\",\"57\"\\n\"female\",\"group B\",\"master\\'s degree\",\"standard\",\"none\",\"77\",\"90\",\"84\"\\n\"female\",\"group B\",\"high school\",\"free/reduced\",\"completed\",\"76\",\"85\",\"82\"\\n\"female\",\"group C\",\"associate\\'s degree\",\"standard\",\"completed\",\"52\",\"59\",\"62\"\\n\"male\",\"group C\",\"bachelor\\'s degree\",\"standard\",\"completed\",\"91\",\"81\",\"79\"\\n\"female\",\"group B\",\"some high school\",\"standard\",\"completed\",\"32\",\"51\",\"44\"\\n\"female\",\"group E\",\"some high school\",\"free/reduced\",\"none\",\"72\",\"79\",\"77\"\\n\"female\",\"group B\",\"some college\",\"standard\",\"none\",\"19\",\"38\",\"32\"\\n\"male\",\"group C\",\"associate\\'s degree\",\"free/reduced\",\"none\",\"68\",\"65\",\"61\"\\n\"female\",\"group C\",\"master\\'s degree\",\"free/reduced\",\"none\",\"52\",\"65\",\"61\"\\n\"female\",\"group B\",\"high school\",\"standard\",\"none\",\"48\",\"62\",\"60\"\\n\"female\",\"group D\",\"some college\",\"free/reduced\",\"none\",\"60\",\"66\",\"70\"\\n\"male\",\"group D\",\"high school\",\"free/reduced\",\"none\",\"66\",\"74\",\"69\"\\n\"male\",\"group E\",\"some high school\",\"standard\",\"completed\",\"89\",\"84\",\"77\"\\n\"female\",\"group B\",\"high school\",\"standard\",\"none\",\"42\",\"52\",\"51\"\\n\"female\",\"group E\",\"associate\\'s degree\",\"free/reduced\",\"completed\",\"57\",\"68\",\"73\"\\n\"male\",\"group D\",\"high school\",\"standard\",\"none\",\"70\",\"70\",\"70\"\\n\"female\",\"group E\",\"associate\\'s degree\",\"free/reduced\",\"none\",\"70\",\"84\",\"81\"\\n\"male\",\"group E\",\"some college\",\"standard\",\"none\",\"69\",\"60\",\"54\"\\n\"female\",\"group C\",\"associate\\'s degree\",\"standard\",\"none\",\"52\",\"55\",\"57\"\\n\"male\",\"group C\",\"some high school\",\"standard\",\"completed\",\"67\",\"73\",\"68\"\\n\"male\",\"group C\",\"some high school\",\"standard\",\"completed\",\"76\",\"80\",\"73\"\\n\"female\",\"group E\",\"associate\\'s degree\",\"standard\",\"none\",\"87\",\"94\",\"95\"\\n\"female\",\"group B\",\"some college\",\"standard\",\"none\",\"82\",\"85\",\"87\"\\n\"female\",\"group C\",\"some college\",\"standard\",\"none\",\"73\",\"76\",\"78\"\\n\"male\",\"group A\",\"some college\",\"free/reduced\",\"none\",\"75\",\"81\",\"74\"\\n\"female\",\"group D\",\"some college\",\"free/reduced\",\"none\",\"64\",\"74\",\"75\"\\n\"female\",\"group E\",\"high school\",\"free/reduced\",\"none\",\"41\",\"45\",\"40\"\\n\"male\",\"group C\",\"high school\",\"standard\",\"none\",\"90\",\"75\",\"69\"\\n\"male\",\"group B\",\"bachelor\\'s degree\",\"standard\",\"none\",\"59\",\"54\",\"51\"\\n\"male\",\"group A\",\"some high school\",\"standard\",\"none\",\"51\",\"31\",\"36\"\\n\"male\",\"group A\",\"high school\",\"free/reduced\",\"none\",\"45\",\"47\",\"49\"\\n\"female\",\"group C\",\"master\\'s degree\",\"standard\",\"completed\",\"54\",\"64\",\"67\"\\n\"male\",\"group E\",\"some high school\",\"standard\",\"completed\",\"87\",\"84\",\"76\"\\n\"female\",\"group C\",\"high school\",\"standard\",\"none\",\"72\",\"80\",\"83\"\\n\"male\",\"group B\",\"some high school\",\"standard\",\"completed\",\"94\",\"86\",\"87\"\\n\"female\",\"group A\",\"bachelor\\'s degree\",\"standard\",\"none\",\"45\",\"59\",\"64\"\\n\"male\",\"group D\",\"bachelor\\'s degree\",\"free/reduced\",\"completed\",\"61\",\"70\",\"76\"\\n\"female\",\"group B\",\"high school\",\"free/reduced\",\"none\",\"60\",\"72\",\"68\"\\n\"female\",\"group C\",\"some high school\",\"standard\",\"none\",\"77\",\"91\",\"88\"\\n\"female\",\"group A\",\"some high school\",\"standard\",\"completed\",\"85\",\"90\",\"92\"\\n\"female\",\"group D\",\"bachelor\\'s degree\",\"free/reduced\",\"none\",\"78\",\"90\",\"93\"\\n\"male\",\"group E\",\"some college\",\"free/reduced\",\"completed\",\"49\",\"52\",\"51\"\\n\"female\",\"group B\",\"high school\",\"free/reduced\",\"none\",\"71\",\"87\",\"82\"\\n\"female\",\"group C\",\"some high school\",\"free/reduced\",\"none\",\"48\",\"58\",\"52\"\\n\"male\",\"group C\",\"high school\",\"standard\",\"none\",\"62\",\"67\",\"58\"\\n\"female\",\"group C\",\"associate\\'s degree\",\"free/reduced\",\"completed\",\"56\",\"68\",\"70\"\\n\"female\",\"group C\",\"some high school\",\"standard\",\"none\",\"65\",\"69\",\"76\"\\n\"female\",\"group D\",\"some high school\",\"free/reduced\",\"completed\",\"69\",\"86\",\"81\"\\n\"male\",\"group B\",\"some high school\",\"standard\",\"none\",\"68\",\"54\",\"53\"\\n\"female\",\"group A\",\"some college\",\"free/reduced\",\"none\",\"61\",\"60\",\"57\"\\n\"female\",\"group C\",\"bachelor\\'s degree\",\"free/reduced\",\"completed\",\"74\",\"86\",\"89\"\\n\"male\",\"group A\",\"bachelor\\'s degree\",\"standard\",\"none\",\"64\",\"60\",\"58\"\\n\"female\",\"group B\",\"high school\",\"standard\",\"completed\",\"77\",\"82\",\"89\"\\n\"male\",\"group B\",\"some college\",\"standard\",\"none\",\"58\",\"50\",\"45\"\\n\"female\",\"group C\",\"high school\",\"standard\",\"completed\",\"60\",\"64\",\"74\"\\n\"male\",\"group E\",\"high school\",\"standard\",\"none\",\"73\",\"64\",\"57\"\\n\"female\",\"group A\",\"high school\",\"standard\",\"completed\",\"75\",\"82\",\"79\"\\n\"male\",\"group B\",\"associate\\'s degree\",\"free/reduced\",\"completed\",\"58\",\"57\",\"53\"\\n\"female\",\"group C\",\"associate\\'s degree\",\"standard\",\"none\",\"66\",\"77\",\"73\"\\n\"female\",\"group D\",\"high school\",\"free/reduced\",\"none\",\"39\",\"52\",\"46\"\\n\"male\",\"group C\",\"some high school\",\"standard\",\"none\",\"64\",\"58\",\"51\"\\n\"female\",\"group B\",\"high school\",\"free/reduced\",\"completed\",\"23\",\"44\",\"36\"\\n\"male\",\"group B\",\"some college\",\"free/reduced\",\"completed\",\"74\",\"77\",\"76\"\\n\"female\",\"group D\",\"some high school\",\"free/reduced\",\"completed\",\"40\",\"65\",\"64\"\\n\"male\",\"group E\",\"master\\'s degree\",\"standard\",\"none\",\"90\",\"85\",\"84\"\\n\"male\",\"group C\",\"master\\'s degree\",\"standard\",\"completed\",\"91\",\"85\",\"85\"\\n\"male\",\"group D\",\"high school\",\"standard\",\"none\",\"64\",\"54\",\"50\"\\n\"female\",\"group C\",\"high school\",\"standard\",\"none\",\"59\",\"72\",\"68\"\\n\"male\",\"group D\",\"associate\\'s degree\",\"standard\",\"none\",\"80\",\"75\",\"69\"\\n\"male\",\"group C\",\"master\\'s degree\",\"standard\",\"none\",\"71\",\"67\",\"67\"\\n\"female\",\"group A\",\"high school\",\"standard\",\"none\",\"61\",\"68\",\"63\"\\n\"female\",\"group E\",\"some college\",\"standard\",\"none\",\"87\",\"85\",\"93\"\\n\"male\",\"group E\",\"some high school\",\"standard\",\"none\",\"82\",\"67\",\"61\"\\n\"male\",\"group C\",\"some high school\",\"standard\",\"none\",\"62\",\"64\",\"55\"\\n\"female\",\"group B\",\"bachelor\\'s degree\",\"standard\",\"none\",\"97\",\"97\",\"96\"\\n\"male\",\"group B\",\"some college\",\"free/reduced\",\"none\",\"75\",\"68\",\"65\"\\n\"female\",\"group C\",\"bachelor\\'s degree\",\"standard\",\"none\",\"65\",\"79\",\"81\"\\n\"male\",\"group B\",\"high school\",\"standard\",\"completed\",\"52\",\"49\",\"46\"\\n\"male\",\"group C\",\"associate\\'s degree\",\"free/reduced\",\"none\",\"87\",\"73\",\"72\"\\n\"female\",\"group C\",\"associate\\'s degree\",\"standard\",\"none\",\"53\",\"62\",\"53\"\\n\"female\",\"group E\",\"master\\'s degree\",\"free/reduced\",\"none\",\"81\",\"86\",\"87\"\\n\"male\",\"group D\",\"bachelor\\'s degree\",\"free/reduced\",\"completed\",\"39\",\"42\",\"38\"\\n\"female\",\"group C\",\"some college\",\"standard\",\"completed\",\"71\",\"71\",\"80\"\\n\"male\",\"group C\",\"associate\\'s degree\",\"standard\",\"none\",\"97\",\"93\",\"91\"\\n\"male\",\"group D\",\"some college\",\"standard\",\"completed\",\"82\",\"82\",\"88\"\\n\"male\",\"group C\",\"high school\",\"free/reduced\",\"none\",\"59\",\"53\",\"52\"\\n\"male\",\"group B\",\"associate\\'s degree\",\"standard\",\"none\",\"61\",\"42\",\"41\"\\n\"male\",\"group E\",\"associate\\'s degree\",\"free/reduced\",\"completed\",\"78\",\"74\",\"72\"\\n\"male\",\"group C\",\"associate\\'s degree\",\"free/reduced\",\"none\",\"49\",\"51\",\"51\"\\n\"male\",\"group B\",\"high school\",\"standard\",\"none\",\"59\",\"58\",\"47\"\\n\"female\",\"group C\",\"some college\",\"standard\",\"completed\",\"70\",\"72\",\"76\"\\n\"male\",\"group B\",\"associate\\'s degree\",\"standard\",\"completed\",\"82\",\"84\",\"78\"\\n\"male\",\"group E\",\"associate\\'s degree\",\"free/reduced\",\"none\",\"90\",\"90\",\"82\"\\n\"female\",\"group C\",\"bachelor\\'s degree\",\"free/reduced\",\"none\",\"43\",\"62\",\"61\"\\n\"male\",\"group C\",\"some college\",\"free/reduced\",\"none\",\"80\",\"64\",\"66\"\\n\"male\",\"group D\",\"some college\",\"standard\",\"none\",\"81\",\"82\",\"84\"\\n\"male\",\"group C\",\"some high school\",\"standard\",\"none\",\"57\",\"61\",\"54\"\\n\"female\",\"group D\",\"some high school\",\"standard\",\"none\",\"59\",\"72\",\"80\"\\n\"female\",\"group D\",\"associate\\'s degree\",\"standard\",\"none\",\"64\",\"76\",\"74\"\\n\"male\",\"group C\",\"bachelor\\'s degree\",\"standard\",\"completed\",\"63\",\"64\",\"66\"\\n\"female\",\"group E\",\"bachelor\\'s degree\",\"standard\",\"completed\",\"71\",\"70\",\"70\"\\n\"female\",\"group B\",\"high school\",\"free/reduced\",\"none\",\"64\",\"73\",\"71\"\\n\"male\",\"group D\",\"bachelor\\'s degree\",\"free/reduced\",\"none\",\"55\",\"46\",\"44\"\\n\"female\",\"group E\",\"associate\\'s degree\",\"standard\",\"none\",\"51\",\"51\",\"54\"\\n\"female\",\"group C\",\"associate\\'s degree\",\"standard\",\"completed\",\"62\",\"76\",\"80\"\\n\"female\",\"group E\",\"associate\\'s degree\",\"standard\",\"completed\",\"93\",\"100\",\"95\"\\n\"male\",\"group C\",\"high school\",\"free/reduced\",\"none\",\"54\",\"72\",\"59\"\\n\"female\",\"group D\",\"some college\",\"free/reduced\",\"none\",\"69\",\"65\",\"74\"\\n\"male\",\"group D\",\"high school\",\"free/reduced\",\"none\",\"44\",\"51\",\"48\"\\n\"female\",\"group E\",\"some college\",\"standard\",\"completed\",\"86\",\"85\",\"91\"\\n\"female\",\"group E\",\"associate\\'s degree\",\"standard\",\"none\",\"85\",\"92\",\"85\"\\n\"female\",\"group A\",\"master\\'s degree\",\"free/reduced\",\"none\",\"50\",\"67\",\"73\"\\n\"male\",\"group D\",\"some high school\",\"standard\",\"completed\",\"88\",\"74\",\"75\"\\n\"female\",\"group E\",\"associate\\'s degree\",\"standard\",\"none\",\"59\",\"62\",\"69\"\\n\"female\",\"group E\",\"some high school\",\"free/reduced\",\"none\",\"32\",\"34\",\"38\"\\n\"male\",\"group B\",\"high school\",\"free/reduced\",\"none\",\"36\",\"29\",\"27\"\\n\"female\",\"group B\",\"some high school\",\"free/reduced\",\"completed\",\"63\",\"78\",\"79\"\\n\"male\",\"group D\",\"associate\\'s degree\",\"standard\",\"completed\",\"67\",\"54\",\"63\"\\n\"female\",\"group D\",\"some high school\",\"standard\",\"completed\",\"65\",\"78\",\"82\"\\n\"male\",\"group D\",\"master\\'s degree\",\"standard\",\"none\",\"85\",\"84\",\"89\"\\n\"female\",\"group C\",\"master\\'s degree\",\"standard\",\"none\",\"73\",\"78\",\"74\"\\n\"female\",\"group A\",\"high school\",\"free/reduced\",\"completed\",\"34\",\"48\",\"41\"\\n\"female\",\"group D\",\"bachelor\\'s degree\",\"free/reduced\",\"completed\",\"93\",\"100\",\"100\"\\n\"female\",\"group D\",\"some high school\",\"free/reduced\",\"none\",\"67\",\"84\",\"84\"\\n\"male\",\"group D\",\"some college\",\"standard\",\"none\",\"88\",\"77\",\"77\"\\n\"male\",\"group B\",\"high school\",\"standard\",\"none\",\"57\",\"48\",\"51\"\\n\"female\",\"group D\",\"some college\",\"standard\",\"completed\",\"79\",\"84\",\"91\"\\n\"female\",\"group C\",\"bachelor\\'s degree\",\"free/reduced\",\"none\",\"67\",\"75\",\"72\"\\n\"male\",\"group E\",\"bachelor\\'s degree\",\"standard\",\"completed\",\"70\",\"64\",\"70\"\\n\"male\",\"group D\",\"bachelor\\'s degree\",\"free/reduced\",\"none\",\"50\",\"42\",\"48\"\\n\"female\",\"group A\",\"some college\",\"standard\",\"none\",\"69\",\"84\",\"82\"\\n\"female\",\"group C\",\"bachelor\\'s degree\",\"standard\",\"completed\",\"52\",\"61\",\"66\"\\n\"female\",\"group C\",\"bachelor\\'s degree\",\"free/reduced\",\"completed\",\"47\",\"62\",\"66\"\\n\"female\",\"group B\",\"associate\\'s degree\",\"free/reduced\",\"none\",\"46\",\"61\",\"55\"\\n\"female\",\"group E\",\"some college\",\"standard\",\"none\",\"68\",\"70\",\"66\"\\n\"male\",\"group E\",\"bachelor\\'s degree\",\"standard\",\"completed\",\"100\",\"100\",\"100\"\\n\"female\",\"group C\",\"high school\",\"standard\",\"none\",\"44\",\"61\",\"52\"\\n\"female\",\"group C\",\"associate\\'s degree\",\"standard\",\"completed\",\"57\",\"77\",\"80\"\\n\"male\",\"group B\",\"some college\",\"standard\",\"completed\",\"91\",\"96\",\"91\"\\n\"male\",\"group D\",\"high school\",\"free/reduced\",\"none\",\"69\",\"70\",\"67\"\\n\"female\",\"group C\",\"high school\",\"free/reduced\",\"none\",\"35\",\"53\",\"46\"\\n\"male\",\"group D\",\"high school\",\"standard\",\"none\",\"72\",\"66\",\"66\"\\n\"female\",\"group B\",\"associate\\'s degree\",\"free/reduced\",\"none\",\"54\",\"65\",\"65\"\\n\"male\",\"group D\",\"high school\",\"free/reduced\",\"none\",\"74\",\"70\",\"69\"\\n\"male\",\"group E\",\"some high school\",\"standard\",\"completed\",\"74\",\"64\",\"60\"\\n\"male\",\"group E\",\"associate\\'s degree\",\"free/reduced\",\"none\",\"64\",\"56\",\"52\"\\n\"female\",\"group D\",\"high school\",\"free/reduced\",\"completed\",\"65\",\"61\",\"71\"\\n\"male\",\"group E\",\"associate\\'s degree\",\"free/reduced\",\"completed\",\"46\",\"43\",\"44\"\\n\"female\",\"group C\",\"some high school\",\"free/reduced\",\"none\",\"48\",\"56\",\"51\"\\n\"male\",\"group C\",\"some college\",\"free/reduced\",\"completed\",\"67\",\"74\",\"70\"\\n\"male\",\"group D\",\"some college\",\"free/reduced\",\"none\",\"62\",\"57\",\"62\"\\n\"male\",\"group D\",\"associate\\'s degree\",\"free/reduced\",\"completed\",\"61\",\"71\",\"73\"\\n\"male\",\"group C\",\"bachelor\\'s degree\",\"free/reduced\",\"completed\",\"70\",\"75\",\"74\"\\n\"male\",\"group C\",\"associate\\'s degree\",\"standard\",\"completed\",\"98\",\"87\",\"90\"\\n\"male\",\"group D\",\"some college\",\"free/reduced\",\"none\",\"70\",\"63\",\"58\"\\n\"male\",\"group A\",\"associate\\'s degree\",\"standard\",\"none\",\"67\",\"57\",\"53\"\\n\"female\",\"group E\",\"high school\",\"free/reduced\",\"none\",\"57\",\"58\",\"57\"\\n\"male\",\"group D\",\"some college\",\"standard\",\"completed\",\"85\",\"81\",\"85\"\\n\"male\",\"group D\",\"some high school\",\"standard\",\"completed\",\"77\",\"68\",\"69\"\\n\"male\",\"group C\",\"master\\'s degree\",\"free/reduced\",\"completed\",\"72\",\"66\",\"72\"\\n\"female\",\"group D\",\"master\\'s degree\",\"standard\",\"none\",\"78\",\"91\",\"96\"\\n\"male\",\"group C\",\"high school\",\"standard\",\"none\",\"81\",\"66\",\"64\"\\n\"male\",\"group A\",\"some high school\",\"free/reduced\",\"completed\",\"61\",\"62\",\"61\"\\n\"female\",\"group B\",\"high school\",\"standard\",\"none\",\"58\",\"68\",\"61\"\\n\"female\",\"group C\",\"associate\\'s degree\",\"standard\",\"none\",\"54\",\"61\",\"58\"\\n\"male\",\"group B\",\"high school\",\"standard\",\"none\",\"82\",\"82\",\"80\"\\n\"female\",\"group D\",\"some college\",\"free/reduced\",\"none\",\"49\",\"58\",\"60\"\\n\"male\",\"group B\",\"some high school\",\"free/reduced\",\"completed\",\"49\",\"50\",\"52\"\\n\"female\",\"group E\",\"high school\",\"free/reduced\",\"completed\",\"57\",\"75\",\"73\"\\n\"male\",\"group E\",\"high school\",\"standard\",\"none\",\"94\",\"73\",\"71\"\\n\"female\",\"group D\",\"some college\",\"standard\",\"completed\",\"75\",\"77\",\"83\"\\n\"female\",\"group E\",\"some high school\",\"free/reduced\",\"none\",\"74\",\"74\",\"72\"\\n\"male\",\"group C\",\"high school\",\"standard\",\"completed\",\"58\",\"52\",\"54\"\\n\"female\",\"group C\",\"some college\",\"standard\",\"none\",\"62\",\"69\",\"69\"\\n\"male\",\"group E\",\"associate\\'s degree\",\"standard\",\"none\",\"72\",\"57\",\"62\"\\n\"male\",\"group C\",\"some college\",\"standard\",\"none\",\"84\",\"87\",\"81\"\\n\"female\",\"group D\",\"master\\'s degree\",\"standard\",\"none\",\"92\",\"100\",\"100\"\\n\"female\",\"group D\",\"high school\",\"standard\",\"none\",\"45\",\"63\",\"59\"\\n\"male\",\"group C\",\"high school\",\"standard\",\"none\",\"75\",\"81\",\"71\"\\n\"female\",\"group A\",\"some college\",\"standard\",\"none\",\"56\",\"58\",\"64\"\\n\"female\",\"group D\",\"some high school\",\"free/reduced\",\"none\",\"48\",\"54\",\"53\"\\n\"female\",\"group E\",\"associate\\'s degree\",\"standard\",\"none\",\"100\",\"100\",\"100\"\\n\"female\",\"group C\",\"some high school\",\"free/reduced\",\"completed\",\"65\",\"76\",\"75\"\\n\"male\",\"group D\",\"some college\",\"standard\",\"none\",\"72\",\"57\",\"58\"\\n\"female\",\"group D\",\"some college\",\"standard\",\"none\",\"62\",\"70\",\"72\"\\n\"male\",\"group A\",\"some high school\",\"standard\",\"completed\",\"66\",\"68\",\"64\"\\n\"male\",\"group C\",\"some college\",\"standard\",\"none\",\"63\",\"63\",\"60\"\\n\"female\",\"group E\",\"associate\\'s degree\",\"standard\",\"none\",\"68\",\"76\",\"67\"\\n\"female\",\"group B\",\"bachelor\\'s degree\",\"standard\",\"none\",\"75\",\"84\",\"80\"\\n\"female\",\"group D\",\"bachelor\\'s degree\",\"standard\",\"none\",\"89\",\"100\",\"100\"\\n\"male\",\"group C\",\"some high school\",\"standard\",\"completed\",\"78\",\"72\",\"69\"\\n\"female\",\"group A\",\"high school\",\"free/reduced\",\"completed\",\"53\",\"50\",\"60\"\\n\"female\",\"group D\",\"some college\",\"free/reduced\",\"none\",\"49\",\"65\",\"61\"\\n\"female\",\"group A\",\"some college\",\"standard\",\"none\",\"54\",\"63\",\"67\"\\n\"female\",\"group C\",\"some college\",\"standard\",\"completed\",\"64\",\"82\",\"77\"\\n\"male\",\"group B\",\"some college\",\"free/reduced\",\"completed\",\"60\",\"62\",\"60\"\\n\"male\",\"group C\",\"associate\\'s degree\",\"standard\",\"none\",\"62\",\"65\",\"58\"\\n\"male\",\"group D\",\"high school\",\"standard\",\"completed\",\"55\",\"41\",\"48\"\\n\"female\",\"group C\",\"associate\\'s degree\",\"standard\",\"none\",\"91\",\"95\",\"94\"\\n\"female\",\"group B\",\"high school\",\"free/reduced\",\"none\",\"8\",\"24\",\"23\"\\n\"male\",\"group D\",\"some high school\",\"standard\",\"none\",\"81\",\"78\",\"78\"\\n\"male\",\"group B\",\"some high school\",\"standard\",\"completed\",\"79\",\"85\",\"86\"\\n\"female\",\"group A\",\"some college\",\"standard\",\"completed\",\"78\",\"87\",\"91\"\\n\"female\",\"group C\",\"some high school\",\"standard\",\"none\",\"74\",\"75\",\"82\"\\n\"male\",\"group A\",\"high school\",\"standard\",\"none\",\"57\",\"51\",\"54\"\\n\"female\",\"group C\",\"associate\\'s degree\",\"standard\",\"none\",\"40\",\"59\",\"51\"\\n\"male\",\"group E\",\"some high school\",\"standard\",\"completed\",\"81\",\"75\",\"76\"\\n\"female\",\"group A\",\"some high school\",\"free/reduced\",\"none\",\"44\",\"45\",\"45\"\\n\"female\",\"group D\",\"some college\",\"free/reduced\",\"completed\",\"67\",\"86\",\"83\"\\n\"male\",\"group E\",\"high school\",\"free/reduced\",\"completed\",\"86\",\"81\",\"75\"\\n\"female\",\"group B\",\"some high school\",\"standard\",\"completed\",\"65\",\"82\",\"78\"\\n\"female\",\"group D\",\"associate\\'s degree\",\"free/reduced\",\"none\",\"55\",\"76\",\"76\"\\n\"female\",\"group D\",\"bachelor\\'s degree\",\"free/reduced\",\"none\",\"62\",\"72\",\"74\"\\n\"male\",\"group A\",\"high school\",\"standard\",\"none\",\"63\",\"63\",\"62\"\\n\"female\",\"group E\",\"master\\'s degree\",\"standard\",\"completed\",\"88\",\"99\",\"95\"\\n\"male\",\"group C\",\"high school\",\"free/reduced\",\"none\",\"62\",\"55\",\"55\"\\n\"female\",\"group C\",\"high school\",\"free/reduced\",\"completed\",\"59\",\"71\",\"65\"\\n\"female\",\"group D\",\"some college\",\"standard\",\"completed\",\"68\",\"78\",\"77\"\\n\"female\",\"group D\",\"some college\",\"free/reduced\",\"none\",\"77\",\"86\",\"86\"\\n'}"
            ]
          },
          "metadata": {
            "tags": []
          },
          "execution_count": 3
        }
      ]
    },
    {
      "cell_type": "code",
      "metadata": {
        "id": "drzm1lb9k8b_"
      },
      "source": [
        "data=pd.read_csv(\"/content/StudentsPerformance.csv\")"
      ],
      "execution_count": 4,
      "outputs": []
    },
    {
      "cell_type": "code",
      "metadata": {
        "id": "TXO0xLj_lJLW",
        "outputId": "afeb79c6-5e9b-4250-fe2e-16b88396f784",
        "colab": {
          "base_uri": "https://localhost:8080/",
          "height": 34
        }
      },
      "source": [
        "data.shape"
      ],
      "execution_count": 5,
      "outputs": [
        {
          "output_type": "execute_result",
          "data": {
            "text/plain": [
              "(1000, 8)"
            ]
          },
          "metadata": {
            "tags": []
          },
          "execution_count": 5
        }
      ]
    },
    {
      "cell_type": "code",
      "metadata": {
        "id": "QB9Q5MuHlKRE",
        "outputId": "1c105506-be61-4455-8d01-5602ac2adc82",
        "colab": {
          "base_uri": "https://localhost:8080/",
          "height": 204
        }
      },
      "source": [
        "data.head()"
      ],
      "execution_count": 6,
      "outputs": [
        {
          "output_type": "execute_result",
          "data": {
            "text/html": [
              "<div>\n",
              "<style scoped>\n",
              "    .dataframe tbody tr th:only-of-type {\n",
              "        vertical-align: middle;\n",
              "    }\n",
              "\n",
              "    .dataframe tbody tr th {\n",
              "        vertical-align: top;\n",
              "    }\n",
              "\n",
              "    .dataframe thead th {\n",
              "        text-align: right;\n",
              "    }\n",
              "</style>\n",
              "<table border=\"1\" class=\"dataframe\">\n",
              "  <thead>\n",
              "    <tr style=\"text-align: right;\">\n",
              "      <th></th>\n",
              "      <th>gender</th>\n",
              "      <th>race/ethnicity</th>\n",
              "      <th>parental level of education</th>\n",
              "      <th>lunch</th>\n",
              "      <th>test preparation course</th>\n",
              "      <th>math score</th>\n",
              "      <th>reading score</th>\n",
              "      <th>writing score</th>\n",
              "    </tr>\n",
              "  </thead>\n",
              "  <tbody>\n",
              "    <tr>\n",
              "      <th>0</th>\n",
              "      <td>female</td>\n",
              "      <td>group B</td>\n",
              "      <td>bachelor's degree</td>\n",
              "      <td>standard</td>\n",
              "      <td>none</td>\n",
              "      <td>72</td>\n",
              "      <td>72</td>\n",
              "      <td>74</td>\n",
              "    </tr>\n",
              "    <tr>\n",
              "      <th>1</th>\n",
              "      <td>female</td>\n",
              "      <td>group C</td>\n",
              "      <td>some college</td>\n",
              "      <td>standard</td>\n",
              "      <td>completed</td>\n",
              "      <td>69</td>\n",
              "      <td>90</td>\n",
              "      <td>88</td>\n",
              "    </tr>\n",
              "    <tr>\n",
              "      <th>2</th>\n",
              "      <td>female</td>\n",
              "      <td>group B</td>\n",
              "      <td>master's degree</td>\n",
              "      <td>standard</td>\n",
              "      <td>none</td>\n",
              "      <td>90</td>\n",
              "      <td>95</td>\n",
              "      <td>93</td>\n",
              "    </tr>\n",
              "    <tr>\n",
              "      <th>3</th>\n",
              "      <td>male</td>\n",
              "      <td>group A</td>\n",
              "      <td>associate's degree</td>\n",
              "      <td>free/reduced</td>\n",
              "      <td>none</td>\n",
              "      <td>47</td>\n",
              "      <td>57</td>\n",
              "      <td>44</td>\n",
              "    </tr>\n",
              "    <tr>\n",
              "      <th>4</th>\n",
              "      <td>male</td>\n",
              "      <td>group C</td>\n",
              "      <td>some college</td>\n",
              "      <td>standard</td>\n",
              "      <td>none</td>\n",
              "      <td>76</td>\n",
              "      <td>78</td>\n",
              "      <td>75</td>\n",
              "    </tr>\n",
              "  </tbody>\n",
              "</table>\n",
              "</div>"
            ],
            "text/plain": [
              "   gender race/ethnicity  ... reading score writing score\n",
              "0  female        group B  ...            72            74\n",
              "1  female        group C  ...            90            88\n",
              "2  female        group B  ...            95            93\n",
              "3    male        group A  ...            57            44\n",
              "4    male        group C  ...            78            75\n",
              "\n",
              "[5 rows x 8 columns]"
            ]
          },
          "metadata": {
            "tags": []
          },
          "execution_count": 6
        }
      ]
    },
    {
      "cell_type": "code",
      "metadata": {
        "id": "P2Ap7QQulO0q"
      },
      "source": [
        "data[\"total_score\"]=data[\"math score\"]+data[\"reading score\"]+data[\"writing score\"]"
      ],
      "execution_count": 7,
      "outputs": []
    },
    {
      "cell_type": "code",
      "metadata": {
        "id": "0oWE6nsflpqT",
        "outputId": "cb89b0b8-1492-497d-ccdf-82d78fd70be0",
        "colab": {
          "base_uri": "https://localhost:8080/",
          "height": 204
        }
      },
      "source": [
        "data.head()"
      ],
      "execution_count": 8,
      "outputs": [
        {
          "output_type": "execute_result",
          "data": {
            "text/html": [
              "<div>\n",
              "<style scoped>\n",
              "    .dataframe tbody tr th:only-of-type {\n",
              "        vertical-align: middle;\n",
              "    }\n",
              "\n",
              "    .dataframe tbody tr th {\n",
              "        vertical-align: top;\n",
              "    }\n",
              "\n",
              "    .dataframe thead th {\n",
              "        text-align: right;\n",
              "    }\n",
              "</style>\n",
              "<table border=\"1\" class=\"dataframe\">\n",
              "  <thead>\n",
              "    <tr style=\"text-align: right;\">\n",
              "      <th></th>\n",
              "      <th>gender</th>\n",
              "      <th>race/ethnicity</th>\n",
              "      <th>parental level of education</th>\n",
              "      <th>lunch</th>\n",
              "      <th>test preparation course</th>\n",
              "      <th>math score</th>\n",
              "      <th>reading score</th>\n",
              "      <th>writing score</th>\n",
              "      <th>total_score</th>\n",
              "    </tr>\n",
              "  </thead>\n",
              "  <tbody>\n",
              "    <tr>\n",
              "      <th>0</th>\n",
              "      <td>female</td>\n",
              "      <td>group B</td>\n",
              "      <td>bachelor's degree</td>\n",
              "      <td>standard</td>\n",
              "      <td>none</td>\n",
              "      <td>72</td>\n",
              "      <td>72</td>\n",
              "      <td>74</td>\n",
              "      <td>218</td>\n",
              "    </tr>\n",
              "    <tr>\n",
              "      <th>1</th>\n",
              "      <td>female</td>\n",
              "      <td>group C</td>\n",
              "      <td>some college</td>\n",
              "      <td>standard</td>\n",
              "      <td>completed</td>\n",
              "      <td>69</td>\n",
              "      <td>90</td>\n",
              "      <td>88</td>\n",
              "      <td>247</td>\n",
              "    </tr>\n",
              "    <tr>\n",
              "      <th>2</th>\n",
              "      <td>female</td>\n",
              "      <td>group B</td>\n",
              "      <td>master's degree</td>\n",
              "      <td>standard</td>\n",
              "      <td>none</td>\n",
              "      <td>90</td>\n",
              "      <td>95</td>\n",
              "      <td>93</td>\n",
              "      <td>278</td>\n",
              "    </tr>\n",
              "    <tr>\n",
              "      <th>3</th>\n",
              "      <td>male</td>\n",
              "      <td>group A</td>\n",
              "      <td>associate's degree</td>\n",
              "      <td>free/reduced</td>\n",
              "      <td>none</td>\n",
              "      <td>47</td>\n",
              "      <td>57</td>\n",
              "      <td>44</td>\n",
              "      <td>148</td>\n",
              "    </tr>\n",
              "    <tr>\n",
              "      <th>4</th>\n",
              "      <td>male</td>\n",
              "      <td>group C</td>\n",
              "      <td>some college</td>\n",
              "      <td>standard</td>\n",
              "      <td>none</td>\n",
              "      <td>76</td>\n",
              "      <td>78</td>\n",
              "      <td>75</td>\n",
              "      <td>229</td>\n",
              "    </tr>\n",
              "  </tbody>\n",
              "</table>\n",
              "</div>"
            ],
            "text/plain": [
              "   gender race/ethnicity  ... writing score total_score\n",
              "0  female        group B  ...            74         218\n",
              "1  female        group C  ...            88         247\n",
              "2  female        group B  ...            93         278\n",
              "3    male        group A  ...            44         148\n",
              "4    male        group C  ...            75         229\n",
              "\n",
              "[5 rows x 9 columns]"
            ]
          },
          "metadata": {
            "tags": []
          },
          "execution_count": 8
        }
      ]
    },
    {
      "cell_type": "code",
      "metadata": {
        "id": "ZpcVXroalq-M",
        "outputId": "2816e100-ca00-44e6-fbc2-2698b85dac28",
        "colab": {
          "base_uri": "https://localhost:8080/",
          "height": 85
        }
      },
      "source": [
        "data.groupby(\"gender\")[\"total_score\"].mean()"
      ],
      "execution_count": 9,
      "outputs": [
        {
          "output_type": "execute_result",
          "data": {
            "text/plain": [
              "gender\n",
              "female    208.708494\n",
              "male      197.512448\n",
              "Name: total_score, dtype: float64"
            ]
          },
          "metadata": {
            "tags": []
          },
          "execution_count": 9
        }
      ]
    },
    {
      "cell_type": "markdown",
      "metadata": {
        "id": "cRV_PZN3l_Ec"
      },
      "source": [
        "female is doing better as compare to male"
      ]
    },
    {
      "cell_type": "code",
      "metadata": {
        "id": "cFKJICPGmEJA",
        "outputId": "960cfda5-0861-4e06-989e-a1205959d163",
        "colab": {
          "base_uri": "https://localhost:8080/",
          "height": 350
        }
      },
      "source": [
        "sb.countplot(data[\"lunch\"],hue=data[\"gender\"])"
      ],
      "execution_count": 10,
      "outputs": [
        {
          "output_type": "stream",
          "text": [
            "/usr/local/lib/python3.6/dist-packages/seaborn/_decorators.py:43: FutureWarning: Pass the following variable as a keyword arg: x. From version 0.12, the only valid positional argument will be `data`, and passing other arguments without an explicit keyword will result in an error or misinterpretation.\n",
            "  FutureWarning\n"
          ],
          "name": "stderr"
        },
        {
          "output_type": "execute_result",
          "data": {
            "text/plain": [
              "<matplotlib.axes._subplots.AxesSubplot at 0x7f735a660518>"
            ]
          },
          "metadata": {
            "tags": []
          },
          "execution_count": 10
        },
        {
          "output_type": "display_data",
          "data": {
            "image/png": "[encoded data removed]",
            "text/plain": [
              "<Figure size 432x288 with 1 Axes>"
            ]
          },
          "metadata": {
            "tags": [],
            "needs_background": "light"
          }
        }
      ]
    },
    {
      "cell_type": "markdown",
      "metadata": {
        "id": "2DzrSo8Rn0op"
      },
      "source": [
        "this shows that female is more in number."
      ]
    },
    {
      "cell_type": "code",
      "metadata": {
        "id": "efWHGCOkn5db",
        "outputId": "6dd5b75f-b95e-4b4b-c7a8-c24ac390a5f8",
        "colab": {
          "base_uri": "https://localhost:8080/",
          "height": 85
        }
      },
      "source": [
        "data.groupby(\"test preparation course\")[\"total_score\"].mean()"
      ],
      "execution_count": 11,
      "outputs": [
        {
          "output_type": "execute_result",
          "data": {
            "text/plain": [
              "test preparation course\n",
              "completed    218.008380\n",
              "none         195.116822\n",
              "Name: total_score, dtype: float64"
            ]
          },
          "metadata": {
            "tags": []
          },
          "execution_count": 11
        }
      ]
    },
    {
      "cell_type": "markdown",
      "metadata": {
        "id": "K0TrFUyxraaQ"
      },
      "source": [
        "one who have completed test preparation has got better result"
      ]
    },
    {
      "cell_type": "markdown",
      "metadata": {
        "id": "7lWIOifhrurC"
      },
      "source": [
        "race/ethnicity doesn't matter in performance of student .so we'll drop this column"
      ]
    },
    {
      "cell_type": "code",
      "metadata": {
        "id": "iNPRVC7hr6BR"
      },
      "source": [
        "data.drop(\"race/ethnicity\",axis=1,inplace=True)"
      ],
      "execution_count": 13,
      "outputs": []
    },
    {
      "cell_type": "code",
      "metadata": {
        "id": "aKc0dt-Yr_rv",
        "outputId": "34e1c7ab-fc53-4bfb-865f-6f0e4c649705",
        "colab": {
          "base_uri": "https://localhost:8080/",
          "height": 434
        }
      },
      "source": [
        "sb.countplot(data[\"parental level of education\"])\n",
        "plt.xticks(rotation=90)"
      ],
      "execution_count": 16,
      "outputs": [
        {
          "output_type": "stream",
          "text": [
            "/usr/local/lib/python3.6/dist-packages/seaborn/_decorators.py:43: FutureWarning: Pass the following variable as a keyword arg: x. From version 0.12, the only valid positional argument will be `data`, and passing other arguments without an explicit keyword will result in an error or misinterpretation.\n",
            "  FutureWarning\n"
          ],
          "name": "stderr"
        },
        {
          "output_type": "execute_result",
          "data": {
            "text/plain": [
              "(array([0, 1, 2, 3, 4, 5]), <a list of 6 Text major ticklabel objects>)"
            ]
          },
          "metadata": {
            "tags": []
          },
          "execution_count": 16
        },
        {
          "output_type": "display_data",
          "data": {
            "image/png": "[encoded data removed]",
            "text/plain": [
              "<Figure size 432x288 with 1 Axes>"
            ]
          },
          "metadata": {
            "tags": [],
            "needs_background": "light"
          }
        }
      ]
    },
    {
      "cell_type": "code",
      "metadata": {
        "id": "QvPB0MMFsQOR",
        "outputId": "0dc2ce49-d5c5-4754-dbaa-477b3d5ffe1a",
        "colab": {
          "base_uri": "https://localhost:8080/",
          "height": 153
        }
      },
      "source": [
        "data.groupby(\"parental level of education\")[\"total_score\"].mean()"
      ],
      "execution_count": 18,
      "outputs": [
        {
          "output_type": "execute_result",
          "data": {
            "text/plain": [
              "parental level of education\n",
              "associate's degree    208.707207\n",
              "bachelor's degree     215.771186\n",
              "high school           189.290816\n",
              "master's degree       220.796610\n",
              "some college          205.429204\n",
              "some high school      195.324022\n",
              "Name: total_score, dtype: float64"
            ]
          },
          "metadata": {
            "tags": []
          },
          "execution_count": 18
        }
      ]
    },
    {
      "cell_type": "code",
      "metadata": {
        "id": "Povwi6qHsscB",
        "outputId": "a3ed16da-3b20-4c55-e409-a703996b07e5",
        "colab": {
          "base_uri": "https://localhost:8080/",
          "height": 85
        }
      },
      "source": [
        "data.columns"
      ],
      "execution_count": 19,
      "outputs": [
        {
          "output_type": "execute_result",
          "data": {
            "text/plain": [
              "Index(['gender', 'parental level of education', 'lunch',\n",
              "       'test preparation course', 'math score', 'reading score',\n",
              "       'writing score', 'total_score'],\n",
              "      dtype='object')"
            ]
          },
          "metadata": {
            "tags": []
          },
          "execution_count": 19
        }
      ]
    },
    {
      "cell_type": "markdown",
      "metadata": {
        "id": "6ccQom67tNhW"
      },
      "source": [
        "total score mainly depends on parental level of education and test preparation course."
      ]
    },
    {
      "cell_type": "code",
      "metadata": {
        "id": "YtnT0KD3tceX"
      },
      "source": [
        "data_=data.copy()"
      ],
      "execution_count": 20,
      "outputs": []
    },
    {
      "cell_type": "code",
      "metadata": {
        "id": "PK8w1h0kumap",
        "outputId": "298a24bb-7a44-438f-bff5-2b554888b163",
        "colab": {
          "base_uri": "https://localhost:8080/",
          "height": 410
        }
      },
      "source": [
        "sb.heatmap(data_.isnull())"
      ],
      "execution_count": 26,
      "outputs": [
        {
          "output_type": "execute_result",
          "data": {
            "text/plain": [
              "<matplotlib.axes._subplots.AxesSubplot at 0x7f7359cb1eb8>"
            ]
          },
          "metadata": {
            "tags": []
          },
          "execution_count": 26
        },
        {
          "output_type": "display_data",
          "data": {
            "image/png": "[encoded data removed]",
            "text/plain": [
              "<Figure size 432x288 with 2 Axes>"
            ]
          },
          "metadata": {
            "tags": [],
            "needs_background": "light"
          }
        }
      ]
    },
    {
      "cell_type": "code",
      "metadata": {
        "id": "xxcgh9yJspdx"
      },
      "source": [
        "data=data[[\"parental level of education\",\"test preparation course\",\"total_score\"]]"
      ],
      "execution_count": 21,
      "outputs": []
    },
    {
      "cell_type": "code",
      "metadata": {
        "id": "6kEaPGJKuPEA",
        "outputId": "86ecdba3-d3ac-46f9-8254-817f024d8335",
        "colab": {
          "base_uri": "https://localhost:8080/",
          "height": 204
        }
      },
      "source": [
        "data.head()"
      ],
      "execution_count": 22,
      "outputs": [
        {
          "output_type": "execute_result",
          "data": {
            "text/html": [
              "<div>\n",
              "<style scoped>\n",
              "    .dataframe tbody tr th:only-of-type {\n",
              "        vertical-align: middle;\n",
              "    }\n",
              "\n",
              "    .dataframe tbody tr th {\n",
              "        vertical-align: top;\n",
              "    }\n",
              "\n",
              "    .dataframe thead th {\n",
              "        text-align: right;\n",
              "    }\n",
              "</style>\n",
              "<table border=\"1\" class=\"dataframe\">\n",
              "  <thead>\n",
              "    <tr style=\"text-align: right;\">\n",
              "      <th></th>\n",
              "      <th>parental level of education</th>\n",
              "      <th>test preparation course</th>\n",
              "      <th>total_score</th>\n",
              "    </tr>\n",
              "  </thead>\n",
              "  <tbody>\n",
              "    <tr>\n",
              "      <th>0</th>\n",
              "      <td>bachelor's degree</td>\n",
              "      <td>none</td>\n",
              "      <td>218</td>\n",
              "    </tr>\n",
              "    <tr>\n",
              "      <th>1</th>\n",
              "      <td>some college</td>\n",
              "      <td>completed</td>\n",
              "      <td>247</td>\n",
              "    </tr>\n",
              "    <tr>\n",
              "      <th>2</th>\n",
              "      <td>master's degree</td>\n",
              "      <td>none</td>\n",
              "      <td>278</td>\n",
              "    </tr>\n",
              "    <tr>\n",
              "      <th>3</th>\n",
              "      <td>associate's degree</td>\n",
              "      <td>none</td>\n",
              "      <td>148</td>\n",
              "    </tr>\n",
              "    <tr>\n",
              "      <th>4</th>\n",
              "      <td>some college</td>\n",
              "      <td>none</td>\n",
              "      <td>229</td>\n",
              "    </tr>\n",
              "  </tbody>\n",
              "</table>\n",
              "</div>"
            ],
            "text/plain": [
              "  parental level of education test preparation course  total_score\n",
              "0           bachelor's degree                    none          218\n",
              "1                some college               completed          247\n",
              "2             master's degree                    none          278\n",
              "3          associate's degree                    none          148\n",
              "4                some college                    none          229"
            ]
          },
          "metadata": {
            "tags": []
          },
          "execution_count": 22
        }
      ]
    },
    {
      "cell_type": "code",
      "metadata": {
        "id": "z5fducbeuQpt"
      },
      "source": [
        "data=pd.get_dummies(data)"
      ],
      "execution_count": 24,
      "outputs": []
    },
    {
      "cell_type": "code",
      "metadata": {
        "id": "lWOtPE7Tucad",
        "outputId": "1ca1c143-c9c7-48ff-f8a6-adc071826189",
        "colab": {
          "base_uri": "https://localhost:8080/",
          "height": 255
        }
      },
      "source": [
        "data.head()"
      ],
      "execution_count": 25,
      "outputs": [
        {
          "output_type": "execute_result",
          "data": {
            "text/html": [
              "<div>\n",
              "<style scoped>\n",
              "    .dataframe tbody tr th:only-of-type {\n",
              "        vertical-align: middle;\n",
              "    }\n",
              "\n",
              "    .dataframe tbody tr th {\n",
              "        vertical-align: top;\n",
              "    }\n",
              "\n",
              "    .dataframe thead th {\n",
              "        text-align: right;\n",
              "    }\n",
              "</style>\n",
              "<table border=\"1\" class=\"dataframe\">\n",
              "  <thead>\n",
              "    <tr style=\"text-align: right;\">\n",
              "      <th></th>\n",
              "      <th>total_score</th>\n",
              "      <th>parental level of education_associate's degree</th>\n",
              "      <th>parental level of education_bachelor's degree</th>\n",
              "      <th>parental level of education_high school</th>\n",
              "      <th>parental level of education_master's degree</th>\n",
              "      <th>parental level of education_some college</th>\n",
              "      <th>parental level of education_some high school</th>\n",
              "      <th>test preparation course_completed</th>\n",
              "      <th>test preparation course_none</th>\n",
              "    </tr>\n",
              "  </thead>\n",
              "  <tbody>\n",
              "    <tr>\n",
              "      <th>0</th>\n",
              "      <td>218</td>\n",
              "      <td>0</td>\n",
              "      <td>1</td>\n",
              "      <td>0</td>\n",
              "      <td>0</td>\n",
              "      <td>0</td>\n",
              "      <td>0</td>\n",
              "      <td>0</td>\n",
              "      <td>1</td>\n",
              "    </tr>\n",
              "    <tr>\n",
              "      <th>1</th>\n",
              "      <td>247</td>\n",
              "      <td>0</td>\n",
              "      <td>0</td>\n",
              "      <td>0</td>\n",
              "      <td>0</td>\n",
              "      <td>1</td>\n",
              "      <td>0</td>\n",
              "      <td>1</td>\n",
              "      <td>0</td>\n",
              "    </tr>\n",
              "    <tr>\n",
              "      <th>2</th>\n",
              "      <td>278</td>\n",
              "      <td>0</td>\n",
              "      <td>0</td>\n",
              "      <td>0</td>\n",
              "      <td>1</td>\n",
              "      <td>0</td>\n",
              "      <td>0</td>\n",
              "      <td>0</td>\n",
              "      <td>1</td>\n",
              "    </tr>\n",
              "    <tr>\n",
              "      <th>3</th>\n",
              "      <td>148</td>\n",
              "      <td>1</td>\n",
              "      <td>0</td>\n",
              "      <td>0</td>\n",
              "      <td>0</td>\n",
              "      <td>0</td>\n",
              "      <td>0</td>\n",
              "      <td>0</td>\n",
              "      <td>1</td>\n",
              "    </tr>\n",
              "    <tr>\n",
              "      <th>4</th>\n",
              "      <td>229</td>\n",
              "      <td>0</td>\n",
              "      <td>0</td>\n",
              "      <td>0</td>\n",
              "      <td>0</td>\n",
              "      <td>1</td>\n",
              "      <td>0</td>\n",
              "      <td>0</td>\n",
              "      <td>1</td>\n",
              "    </tr>\n",
              "  </tbody>\n",
              "</table>\n",
              "</div>"
            ],
            "text/plain": [
              "   total_score  ...  test preparation course_none\n",
              "0          218  ...                             1\n",
              "1          247  ...                             0\n",
              "2          278  ...                             1\n",
              "3          148  ...                             1\n",
              "4          229  ...                             1\n",
              "\n",
              "[5 rows x 9 columns]"
            ]
          },
          "metadata": {
            "tags": []
          },
          "execution_count": 25
        }
      ]
    },
    {
      "cell_type": "markdown",
      "metadata": {
        "id": "gvHrKGuJuzQX"
      },
      "source": [
        "now we'll build machine learning model."
      ]
    },
    {
      "cell_type": "code",
      "metadata": {
        "id": "RtKc4SwJu5RU"
      },
      "source": [
        "from sklearn.model_selection import train_test_split\n",
        "from sklearn import metrics"
      ],
      "execution_count": 27,
      "outputs": []
    },
    {
      "cell_type": "code",
      "metadata": {
        "id": "iAiBPFPDvxN5"
      },
      "source": [
        "x=data.drop(\"total_score\",axis=1)"
      ],
      "execution_count": 29,
      "outputs": []
    },
    {
      "cell_type": "code",
      "metadata": {
        "id": "6NNzcCAwwSgC"
      },
      "source": [
        "y=data[\"total_score\"].values"
      ],
      "execution_count": 62,
      "outputs": []
    },
    {
      "cell_type": "code",
      "metadata": {
        "id": "kzbDnAe3waAa"
      },
      "source": [
        "x_train,x_test,y_train,y_test=train_test_split(x,y,test_size=0.2)"
      ],
      "execution_count": 63,
      "outputs": []
    },
    {
      "cell_type": "code",
      "metadata": {
        "id": "nhCXq4G9wyeF"
      },
      "source": [
        "from sklearn.model_selection import RandomizedSearchCV\n",
        "from sklearn.ensemble import RandomForestRegressor"
      ],
      "execution_count": 36,
      "outputs": []
    },
    {
      "cell_type": "code",
      "metadata": {
        "id": "4jS10AJxxqbH"
      },
      "source": [
        "regressor=RandomForestRegressor()"
      ],
      "execution_count": 47,
      "outputs": []
    },
    {
      "cell_type": "code",
      "metadata": {
        "id": "mjzhNaMHxvzQ"
      },
      "source": [
        "n_estimators=[int(x) for x in np.linspace(50,1000,15)]\n",
        "criterion=[\"mse\",\"mae\"]\n",
        "max_depth=[int(x) for x in np.linspace(1,10,10)]"
      ],
      "execution_count": 58,
      "outputs": []
    },
    {
      "cell_type": "code",
      "metadata": {
        "id": "q67acbEQysPD",
        "outputId": "b2993914-b0d6-4d43-8455-a05c9099dc20",
        "colab": {
          "base_uri": "https://localhost:8080/",
          "height": 54
        }
      },
      "source": [
        "random_grid={\"n_estimators\":n_estimators,\"criterion\":criterion,\"max_depth\":max_depth}\n",
        "print(random_grid)"
      ],
      "execution_count": 59,
      "outputs": [
        {
          "output_type": "stream",
          "text": [
            "{'n_estimators': [50, 117, 185, 253, 321, 389, 457, 525, 592, 660, 728, 796, 864, 932, 1000], 'criterion': ['mse', 'mae'], 'max_depth': [1, 2, 3, 4, 5, 6, 7, 8, 9, 10]}\n"
          ],
          "name": "stdout"
        }
      ]
    },
    {
      "cell_type": "code",
      "metadata": {
        "id": "XgN-JAW1y5g6"
      },
      "source": [
        "tuned_regressor=RandomizedSearchCV(estimator=regressor,param_distributions=random_grid)"
      ],
      "execution_count": 60,
      "outputs": []
    },
    {
      "cell_type": "code",
      "metadata": {
        "id": "Phgvr2pDzfhG",
        "outputId": "e671df2b-827c-4c52-b79b-6de765a17989",
        "colab": {
          "base_uri": "https://localhost:8080/",
          "height": 476
        }
      },
      "source": [
        "tuned_regressor.fit(x_train,y_train)"
      ],
      "execution_count": 64,
      "outputs": [
        {
          "output_type": "execute_result",
          "data": {
            "text/plain": [
              "RandomizedSearchCV(cv=None, error_score=nan,\n",
              "                   estimator=RandomForestRegressor(bootstrap=True,\n",
              "                                                   ccp_alpha=0.0,\n",
              "                                                   criterion='mse',\n",
              "                                                   max_depth=None,\n",
              "                                                   max_features='auto',\n",
              "                                                   max_leaf_nodes=None,\n",
              "                                                   max_samples=None,\n",
              "                                                   min_impurity_decrease=0.0,\n",
              "                                                   min_impurity_split=None,\n",
              "                                                   min_samples_leaf=1,\n",
              "                                                   min_samples_split=2,\n",
              "                                                   min_weight_fraction_leaf=0.0,\n",
              "                                                   n_estimators=100,\n",
              "                                                   n_jobs=None, oob_score=False,\n",
              "                                                   random_state=None, verbose=0,\n",
              "                                                   warm_start=False),\n",
              "                   iid='deprecated', n_iter=10, n_jobs=None,\n",
              "                   param_distributions={'criterion': ['mse', 'mae'],\n",
              "                                        'max_depth': [1, 2, 3, 4, 5, 6, 7, 8, 9,\n",
              "                                                      10],\n",
              "                                        'n_estimators': [50, 117, 185, 253, 321,\n",
              "                                                         389, 457, 525, 592,\n",
              "                                                         660, 728, 796, 864,\n",
              "                                                         932, 1000]},\n",
              "                   pre_dispatch='2*n_jobs', random_state=None, refit=True,\n",
              "                   return_train_score=False, scoring=None, verbose=0)"
            ]
          },
          "metadata": {
            "tags": []
          },
          "execution_count": 64
        }
      ]
    },
    {
      "cell_type": "code",
      "metadata": {
        "id": "rPkP6Z1d2dBb"
      },
      "source": [
        "y_predict=tuned_regressor.predict(x_test)"
      ],
      "execution_count": 66,
      "outputs": []
    },
    {
      "cell_type": "code",
      "metadata": {
        "id": "ZrV3EdCo2ni0",
        "outputId": "abbfa899-a938-4acb-91bc-88e936c5a996",
        "colab": {
          "base_uri": "https://localhost:8080/",
          "height": 255
        }
      },
      "source": [
        "print(pd.DataFrame({\"Actutal\":y_test,\"predicted\":y_predict}))"
      ],
      "execution_count": 67,
      "outputs": [
        {
          "output_type": "stream",
          "text": [
            "     Actutal   predicted\n",
            "0        234  223.304183\n",
            "1        231  210.259762\n",
            "2        196  196.081754\n",
            "3        147  187.846305\n",
            "4        229  205.277153\n",
            "..       ...         ...\n",
            "195      228  223.304183\n",
            "196      187  196.081754\n",
            "197      202  187.846305\n",
            "198      168  196.081754\n",
            "199      236  205.026995\n",
            "\n",
            "[200 rows x 2 columns]\n"
          ],
          "name": "stdout"
        }
      ]
    },
    {
      "cell_type": "code",
      "metadata": {
        "id": "_IjJLof-2xLT",
        "outputId": "f32734db-b6d9-41ee-da3e-e555d9562bb5",
        "colab": {
          "base_uri": "https://localhost:8080/",
          "height": 34
        }
      },
      "source": [
        "print(np.sqrt(metrics.mean_squared_error(y_test,y_predict)))"
      ],
      "execution_count": 69,
      "outputs": [
        {
          "output_type": "stream",
          "text": [
            "42.23869845085673\n"
          ],
          "name": "stdout"
        }
      ]
    }
  ]
}